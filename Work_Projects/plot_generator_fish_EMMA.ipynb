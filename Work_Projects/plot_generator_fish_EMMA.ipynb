{
  "nbformat": 4,
  "nbformat_minor": 0,
  "metadata": {
    "kernelspec": {
      "display_name": "Python 3",
      "language": "python",
      "name": "python3"
    },
    "language_info": {
      "codemirror_mode": {
        "name": "ipython",
        "version": 3
      },
      "file_extension": ".py",
      "mimetype": "text/x-python",
      "name": "python",
      "nbconvert_exporter": "python",
      "pygments_lexer": "ipython3",
      "version": "3.7.3"
    },
    "colab": {
      "name": "plot_generator_fish_EMMA_April_01_2020.ipynb",
      "provenance": []
    }
  },
  "cells": [
    {
      "cell_type": "code",
      "metadata": {
        "id": "2yenG_Ya-e-J"
      },
      "source": [
        "import pandas as pd\n",
        "import matplotlib.pyplot as plt\n",
        "%matplotlib inline\n",
        "import numpy as np\n",
        "from operator import add\n",
        "import datetime\n",
        "import os\n",
        "import sys\n",
        "import matplotlib\n",
        "pd.set_option('display.max_rows', 5000)\n",
        "pd.set_option('display.max_columns', 5000)\n",
        "pd.set_option('display.width', 1000)\n",
        "import warnings\n",
        "warnings.filterwarnings('ignore')\n",
        "import matplotlib.dates as mdates\n",
        "from matplotlib.dates import DateFormatter\n",
        "import pylab"
      ],
      "execution_count": null,
      "outputs": []
    },
    {
      "cell_type": "markdown",
      "metadata": {
        "id": "_X-XIJg5-e-N"
      },
      "source": [
        "# Note: Here \"Clearwater River upstream Mirror River\" is equavalent to Clear Water River Area-1 (CR A1) in the water data files."
      ]
    },
    {
      "cell_type": "code",
      "metadata": {
        "scrolled": true,
        "id": "69_YCm1d-e-O",
        "outputId": "a65b567a-6693-4684-ce63-904a22ade2cd"
      },
      "source": [
        "pwd"
      ],
      "execution_count": null,
      "outputs": [
        {
          "data": {
            "text/plain": [
              "'C:\\\\Users\\\\ssabahi\\\\Desktop\\\\Plot_Generator\\\\Feb_18_2020\\\\NexGen'"
            ]
          },
          "execution_count": 2,
          "metadata": {},
          "output_type": "execute_result"
        }
      ]
    },
    {
      "cell_type": "code",
      "metadata": {
        "id": "W4_cfn6e-e-Q"
      },
      "source": [
        "mode='Northern Pike Fish'\n",
        "# mode='White Fish'"
      ],
      "execution_count": null,
      "outputs": []
    },
    {
      "cell_type": "code",
      "metadata": {
        "id": "cYy7VARB-e-Q"
      },
      "source": [
        "start_date = datetime.datetime(2017, 1, 1)\n",
        "end_date= datetime.datetime(2020, 3, 20)\n",
        "#timestep in the impact output files\n",
        "time_step = 0.08333333"
      ],
      "execution_count": null,
      "outputs": []
    },
    {
      "cell_type": "markdown",
      "metadata": {
        "id": "0lkEzja9-e-R"
      },
      "source": [
        "The Information Needed to Enter\n",
        "Specify which IMPACT_locations should be plotted for comparison\n",
        "Use EXACTLY the name that IMPACT uses! \n",
        "This code plots 3 IMPACT locations. For more locations we \n",
        "need to add more if statement in the plotting section and \n",
        "modift IMPACT_color_ls."
      ]
    },
    {
      "cell_type": "code",
      "metadata": {
        "id": "XK2KHY6_-e-R"
      },
      "source": [
        "if mode=='Northern Pike Fish':\n",
        "    IMPACT_locations = ['Broach Lake', 'Patterson Lake North West', 'Clearwater River upstream Mirror River']\n",
        "if mode=='White Fish':\n",
        "    IMPACT_locations = ['Broach Lake', 'Patterson Lake North West', 'Clearwater River upstream Mirror River']\n"
      ],
      "execution_count": null,
      "outputs": []
    },
    {
      "cell_type": "markdown",
      "metadata": {
        "id": "1IujQsbO-e-S"
      },
      "source": [
        "Color lists for plotting"
      ]
    },
    {
      "cell_type": "code",
      "metadata": {
        "id": "BAmvtGWn-e-T"
      },
      "source": [
        "IMPACT_color_ls = ['navy','coral','g']\n",
        "geom_m_EMMA_ls = ['black']\n",
        "local_inflow_mean_color_ls = ['steelblue']\n",
        "QG_color_ls = ['deepskyblue']"
      ],
      "execution_count": null,
      "outputs": []
    },
    {
      "cell_type": "code",
      "metadata": {
        "id": "_tonFdA0-e-T"
      },
      "source": [
        "IMPACT_folder = 'NextGen_MT.ps55_Outputs'"
      ],
      "execution_count": null,
      "outputs": []
    },
    {
      "cell_type": "code",
      "metadata": {
        "id": "SUd8LShO-e-U"
      },
      "source": [
        "#IMPACT results should be rounded for better plotting.\n",
        "IMPACT_decimal_place = 7\n",
        "#a list of all impact outputs\n",
        "impactfile_list = os.listdir(IMPACT_folder)\n",
        "IMPACT_output_files = []"
      ],
      "execution_count": null,
      "outputs": []
    },
    {
      "cell_type": "code",
      "metadata": {
        "id": "aCtR90-x-e-U"
      },
      "source": [
        "\n",
        "# To select different colors go to the following website:\n",
        "     # https://www.rapidtables.com/web/css/css-color.html\n",
        "# The cols_ls_1 is used for lakes with one samplig station.\n",
        "cols_ls_1 = ['blue','green','red','saddlebrown','darkred','khaki','mediumseagreen', 'cyan', 'mediumslateblue', 'olive','saddlebrown',\n",
        "          'violet','dimgray','deepskyblue','green','black','darkslategray','darkred','teal','darkgreen', 'cyan', 'mediumslateblue', 'olive','saddlebrown',\n",
        "          'violet','dimgray','blue','green','black','darkslategray','darkred','khaki','darkgreen', 'cyan', 'mediumslateblue', 'olive','saddlebrown',\n",
        "          'violet','dimgray','blue','green','black','darkslategray','darkred','khaki','darkgreen', 'cyan', 'mediumslateblue', 'olive','saddlebrown',\n",
        "          'violet','dimgray']\n",
        "\n",
        "    # The cols_ls_2 is used for lakes with more than one samplig station.\n",
        "cols_ls_2 = ['blue','green','black','darkred','khaki','yellow'] \n"
      ],
      "execution_count": null,
      "outputs": []
    },
    {
      "cell_type": "markdown",
      "metadata": {
        "id": "0f7eMF40-e-U"
      },
      "source": [
        "Specify which EMMA_locations should be plotted and which files contain the data"
      ]
    },
    {
      "cell_type": "code",
      "metadata": {
        "scrolled": true,
        "id": "JR0eI024-e-V"
      },
      "source": [
        "if mode=='Northern Pike Fish':\n",
        "\n",
        "    EMMA_locations = ['PL','BeetL','FL','NL','LLI','BL','CR']\n",
        "    EMMA_folder_file = './EMMA/FFW_NP.xlsx'\n",
        "\n",
        "    #Select one lake from the IMPACT excel file results for water COPCs - Used for ploting\n",
        "    loc_name_plot = 'Forrest Lake north basin for Northern pike Conc'\n",
        "   \n",
        "    #In case EMMA locations and IMPACT locations are different - set aliases\n",
        "    EMMA_location_alias = ['Patterson Lake Northwest Area-1','Beet Lake Area-1', 'Forrst Lake Area-2',\n",
        "                           'Naomi lake','Lloyd Lake Input','Broach Lake Area-2','Clear Water River Area-1'] \n",
        "    #set the markers for plotting\n",
        "    EMMA_marker_ls = [\"o\",\"v\",\"^\",\"<\",\">\",\"s\",\"D\",\"d\",\n",
        "                  \"p\",\"H\",\"X\",\"o\",\"v\",\"^\",\"<\",\">\",\n",
        "                  \"s\",\"D\"]\n",
        "\n",
        "    #Rename the COPC names based on the lab data\n",
        "    COPCs_dic = {'As':'Arsenic','COND':'Conductivity (Field)',\n",
        "                          'Ca+':'Calcium','Ca':'Calcium','Cd':'Cadmium',\n",
        "                          'Cl-':'Chloride','Cl':'Chloride','Co':'Cobalt',\n",
        "                           'V':'Vanadium','Cr':'Chromium', 'Cs':'Cesium',\n",
        "                          'Cu':'Copper', 'Fe':'Iron','NO3':'Nitrate',\n",
        "                          'Mg+':'Magnesium', 'Mg':'Magnesium','Mn':'Manganese',\n",
        "                          'Mo':'Molybdenum',\n",
        "                          'NH3':'Ammonia as N','Na':'Sodium',\n",
        "                          'NO3-':'Nitrate', 'Na+':'Sodium',\n",
        "                          'Ni':'Nickel', 'Pb':'Lead', 'Pb-210':'Lead-210',\n",
        "                          'Po-210':'Polonium-210', 'Ra-226':'Radium-226',\n",
        "                          'Rn-222':'Radon-222', 'SO4':'Sulphate', \n",
        "                          'Se':'Selenium', 'Th-230':'Thorium-230',\n",
        "                          'U':'Uranium', 'U-234':'Uranium-234',\n",
        "                          'U-238':'Uranium-238', \n",
        "                          'Zn':'Zinc'}\n",
        "\n",
        "    \n",
        "#         if ( file_name.endswith('Northern pike Conc.xls') or file_name.endswith('Whitefish Conc.xls') ) :\n",
        "#             IMPACT_output_files.append(file_name)\n",
        "\n",
        "    for file_name in impactfile_list:\n",
        "        if ( file_name.endswith('Northern pike Conc.xls') ) :\n",
        "            IMPACT_output_files.append(file_name)\n",
        "            \n",
        "\n",
        "            \n",
        "\n",
        "            \n",
        "if mode=='White Fish':\n",
        "\n",
        "    EMMA_locations = ['PL','BeetL','FL','NL','LLI','BL','CR']\n",
        "    EMMA_folder_file = './EMMA/FFW_LW.xlsx'\n",
        "\n",
        "    #Select one lake from the IMPACT excel file results for water COPCs - Used for ploting\n",
        "    loc_name_plot = 'Forrest Lake north basin for Whitefish Conc'\n",
        "\n",
        "    #In case EMMA locations and IMPACT locations are different - set aliases\n",
        "    EMMA_location_alias = ['Patterson Lake Northwest Area-1','Beet Lake Area-1', 'Forrst Lake Area-2',\n",
        "                           'Naomi lake','Lloyd Lake Input','Broach Lake Area-2','Clear Water River Area-1'] \n",
        "    #set the markers for plotting\n",
        "    EMMA_marker_ls = [\"o\",\"v\",\"^\",\"<\",\">\",\"s\",\"D\",\"d\",\n",
        "                  \"p\",\"H\",\"X\",\"o\",\"v\",\"^\",\"<\",\">\",\n",
        "                  \"s\",\"D\"]\n",
        "\n",
        "    #Rename the COPC names based on the lab data\n",
        "    COPCs_dic = {'As':'Arsenic','COND':'Conductivity (Field)',\n",
        "                          'Ca+':'Calcium','Ca':'Calcium','Cd':'Cadmium',\n",
        "                          'Cl-':'Chloride','Cl':'Chloride','Co':'Cobalt',\n",
        "                           'V':'Vanadium','Cr':'Chromium', 'Cs':'Cesium',\n",
        "                          'Cu':'Copper', 'Fe':'Iron','NO3':'Nitrate',\n",
        "                          'Mg+':'Magnesium', 'Mg':'Magnesium','Mn':'Manganese',\n",
        "                          'Mo':'Molybdenum',\n",
        "                          'NH3':'Ammonia as N','Na':'Sodium',\n",
        "                          'NO3-':'Nitrate', 'Na+':'Sodium',\n",
        "                          'Ni':'Nickel', 'Pb':'Lead', 'Pb-210':'Lead-210',\n",
        "                          'Po-210':'Polonium-210', 'Ra-226':'Radium-226',\n",
        "                          'Rn-222':'Radon-222', 'SO4':'Sulphate', \n",
        "                          'Se':'Selenium', 'Th-230':'Thorium-230',\n",
        "                          'U':'Uranium', 'U-234':'Uranium-234',\n",
        "                          'U-238':'Uranium-238', \n",
        "                          'Zn':'Zinc'}\n",
        "\n",
        "    \n",
        "#         if ( file_name.endswith('Northern pike Conc.xls') or file_name.endswith('Whitefish Conc.xls') ) :\n",
        "#             IMPACT_output_files.append(file_name)\n",
        "\n",
        "    for file_name in impactfile_list:\n",
        "        if ( file_name.endswith('Whitefish Conc.xls') ) :\n",
        "            IMPACT_output_files.append(file_name)\n",
        "            \n",
        "\n"
      ],
      "execution_count": null,
      "outputs": []
    },
    {
      "cell_type": "code",
      "metadata": {
        "id": "LxqL6nVR-e-X",
        "outputId": "69cbe808-16fc-409a-c8f8-f4b1e7502df9"
      },
      "source": [
        "IMPACT_output_files"
      ],
      "execution_count": null,
      "outputs": [
        {
          "data": {
            "text/plain": [
              "['Beet Lake for Northern pike Conc.xls',\n",
              " 'Broach Lake for Northern pike Conc.xls',\n",
              " 'Clearwater River upstream Mirror River for Northern pike Conc.xls',\n",
              " 'Forrest Lake north basin for Northern pike Conc.xls',\n",
              " 'Lloyd Lake Inlet for Northern pike Conc.xls',\n",
              " 'Patterson Lake North West for Northern pike Conc.xls',\n",
              " 'Patterson Lake South for Northern pike Conc.xls']"
            ]
          },
          "execution_count": 11,
          "metadata": {},
          "output_type": "execute_result"
        }
      ]
    },
    {
      "cell_type": "code",
      "metadata": {
        "id": "Q2a6MVxj-e-X"
      },
      "source": [
        "EMMA_file_sheet_name = 'FigureTable'\n",
        "EMMA_file_sheet_name_stat = 'Stats_a_Entire Query Time' "
      ],
      "execution_count": null,
      "outputs": []
    },
    {
      "cell_type": "code",
      "metadata": {
        "id": "Iqa1RrBi-e-X"
      },
      "source": [
        "# this dataframe is used to plot geometric means of COPCs\n",
        "local_inflow_folder_file = './Local_Inflow/Local_Inflow.xlsx'\n",
        "local_inflow_file_sheet_name = 'WaterBalance_output'"
      ],
      "execution_count": null,
      "outputs": []
    },
    {
      "cell_type": "markdown",
      "metadata": {
        "id": "K_dvr80F-e-Y"
      },
      "source": [
        "specify guidelines file"
      ]
    },
    {
      "cell_type": "markdown",
      "metadata": {
        "id": "f3RKfcpm-e-Y"
      },
      "source": [
        "Output saved locations"
      ]
    },
    {
      "cell_type": "code",
      "metadata": {
        "id": "vzuCkFfU-e-Y"
      },
      "source": [
        "if mode=='Northern Pike Fish':\n",
        "    \n",
        "    IMPACT_NPF_plots_folder = './plots/Impact_Plots_'+str(mode)\n",
        "    IMPACT_EMMA_NPF_Plots_folder = './plots/IMAPCT_EMMA_Plots_'+str(mode)\n",
        "    os.makedirs(IMPACT_NPF_plots_folder,exist_ok=True)\n",
        "    os.makedirs(IMPACT_EMMA_NPF_Plots_folder,exist_ok=True)\n",
        "\n",
        "if mode=='White Fish':\n",
        "    \n",
        "    IMPACT_WF_plots_folder = './plots/Impact_Plots_'+str(mode)\n",
        "    IMPACT_EMMA_WF_Plots_folder = './plots/IMAPCT_EMMA_Plots_'+str(mode)\n",
        "    os.makedirs(IMPACT_WF_plots_folder,exist_ok=True)\n",
        "    os.makedirs(IMPACT_EMMA_WF_Plots_folder,exist_ok=True)\n"
      ],
      "execution_count": null,
      "outputs": []
    },
    {
      "cell_type": "markdown",
      "metadata": {
        "id": "LISQXczR-e-Y"
      },
      "source": [
        "Import the raw data\n",
        "Datafrmae 1- EMMA\n",
        "Used to plot the sampled data-Scatter plot\n",
        "Here we need to enter the directory where the EMMA file is located and \n",
        "then mention the name of the excel file and respective sheets"
      ]
    },
    {
      "cell_type": "code",
      "metadata": {
        "id": "YxGsrowN-e-Y",
        "outputId": "7fdde418-4ccb-4b69-e921-2304ba658729"
      },
      "source": [
        "#TODO: the skipfooter business is super risky, cutting off elements potentially\n",
        "\n",
        "EMMA_df = pd.read_excel(EMMA_folder_file, sheet_name=EMMA_file_sheet_name)\n",
        "EMMA_Stat_df = pd.read_excel(EMMA_folder_file, sheet_name=EMMA_file_sheet_name_stat,skiprows=3, skipfooter = 4)\n",
        "EMMA_Stat_df.drop(['Unnamed: 0'], axis=1, inplace=True)\n",
        "EMMA_df_header1 = list(EMMA_df.iloc[2,:5])\n",
        "EMMA_df_header2 = list( map(add, list(map(str,EMMA_df.iloc[0,:])),  list(map(str,EMMA_df.iloc[1,:])) ))\n",
        "EMMA_df_header2 = EMMA_df_header2[5:]\n",
        "EMMA_df_header = (EMMA_df_header1+EMMA_df_header2)\n",
        "\n",
        "#remove redundant rows\n",
        "EMMA_df.drop(EMMA_df.index[[0,1,2]], inplace=True)\n",
        "EMMA_df.columns = EMMA_df_header\n",
        "print('The EMMA dataset has '+str(len(EMMA_locations))+ ' locations for the '+str(mode)+' sampling data')\n",
        "\n",
        "\n",
        "EMMA_Stat_col_ls = ['Minimum', 'Percentile_5th', 'Percentile_50th', 'Percentile_95th', 'Maximum', 'Arithmetic_Mean', 'Geometric_Mean']\n",
        "copcs_EMMA = EMMA_df.Parameter_ID.unique()\n",
        "\n",
        "EMMA_col_TF_ls = list( (EMMA_df.columns[EMMA_df.columns.str.endswith('True')]) | (EMMA_df.columns[EMMA_df.columns.str.endswith('False')]) )\n"
      ],
      "execution_count": null,
      "outputs": [
        {
          "name": "stdout",
          "output_type": "stream",
          "text": [
            "The EMMA dataset has 7 locations for the Northern Pike Fish sampling data\n"
          ]
        }
      ]
    },
    {
      "cell_type": "code",
      "metadata": {
        "id": "Zb0c60J9-e-Z",
        "outputId": "657febd8-8e5b-4407-cc79-5c65afa73e41"
      },
      "source": [
        "EMMA_col_TF_ls"
      ],
      "execution_count": null,
      "outputs": [
        {
          "data": {
            "text/plain": [
              "['BLFalse',\n",
              " 'BLTrue',\n",
              " 'BeetLFalse',\n",
              " 'BeetLTrue',\n",
              " 'CRFalse',\n",
              " 'CRTrue',\n",
              " 'FLFalse',\n",
              " 'FLTrue',\n",
              " 'LLIFalse',\n",
              " 'LLITrue',\n",
              " 'NLFalse',\n",
              " 'NLTrue',\n",
              " 'PLFalse',\n",
              " 'PLTrue']"
            ]
          },
          "execution_count": 16,
          "metadata": {},
          "output_type": "execute_result"
        }
      ]
    },
    {
      "cell_type": "code",
      "metadata": {
        "id": "Fety6b7V-e-Z"
      },
      "source": [
        "if mode=='Northern Pike Fish':\n",
        "    #unit_micro = list(EMMA_df[EMMA_df['Units']=='µg/L']['Parameter_ID'].unique())\n",
        "    #Change the microgram/l to miligram/l to be consistent with other dataframe data\n",
        "    EMMA_df.loc[EMMA_df['Units']=='µg/L', EMMA_col_TF_ls] = EMMA_df.loc[EMMA_df['Units']=='µg/L', EMMA_col_TF_ls] * 0.001\n",
        "    EMMA_Stat_df.loc[EMMA_Stat_df['Units']=='µg/L', EMMA_Stat_col_ls] = EMMA_Stat_df.loc[EMMA_Stat_df['Units']=='µg/L', EMMA_Stat_col_ls] * 0.001\n",
        "    #TODO: maybe also rename the units?\n",
        "elif mode=='White Fish': \n",
        "    #in sediment data everything is given in microg/mg which is equivalent to the mg/kg of impact\n",
        "    EMMA_df.loc[EMMA_df['Units']=='Bq/g', EMMA_col_TF_ls] = EMMA_df.loc[EMMA_df['Units']=='Bq/g', EMMA_col_TF_ls] * 1000\n",
        "    EMMA_Stat_df.loc[EMMA_Stat_df['Units']=='Bq/g', EMMA_Stat_col_ls] = EMMA_Stat_df.loc[EMMA_Stat_df['Units']=='Bq/g', EMMA_Stat_col_ls] * 1000\n",
        "    \n",
        "else:\n",
        "    print('Enter an analysis mode at the top!')"
      ],
      "execution_count": null,
      "outputs": []
    },
    {
      "cell_type": "markdown",
      "metadata": {
        "id": "v-aWeKnS-e-a"
      },
      "source": [
        "Dataframe 2-Local Inflow File\n",
        "Used to plot COPCs' Geometric mean followed by the sediment-water interaction"
      ]
    },
    {
      "cell_type": "code",
      "metadata": {
        "id": "3b-zQqvZ-e-a",
        "outputId": "82712760-43c8-4bbc-c0cf-fd4e7820f6b7"
      },
      "source": [
        "IMPACT_output_files"
      ],
      "execution_count": null,
      "outputs": [
        {
          "data": {
            "text/plain": [
              "['Beet Lake for Northern pike Conc.xls',\n",
              " 'Broach Lake for Northern pike Conc.xls',\n",
              " 'Clearwater River upstream Mirror River for Northern pike Conc.xls',\n",
              " 'Forrest Lake north basin for Northern pike Conc.xls',\n",
              " 'Lloyd Lake Inlet for Northern pike Conc.xls',\n",
              " 'Patterson Lake North West for Northern pike Conc.xls',\n",
              " 'Patterson Lake South for Northern pike Conc.xls']"
            ]
          },
          "execution_count": 18,
          "metadata": {},
          "output_type": "execute_result"
        }
      ]
    },
    {
      "cell_type": "code",
      "metadata": {
        "id": "d5sujqF0-e-a",
        "outputId": "7689bbd9-b2b9-4f2f-9dc6-90aa0a6db96d"
      },
      "source": [
        "IMPACT_locations"
      ],
      "execution_count": null,
      "outputs": [
        {
          "data": {
            "text/plain": [
              "['Broach Lake',\n",
              " 'Patterson Lake North West',\n",
              " 'Clearwater River upstream Mirror River']"
            ]
          },
          "execution_count": 19,
          "metadata": {},
          "output_type": "execute_result"
        }
      ]
    },
    {
      "cell_type": "code",
      "metadata": {
        "id": "RL5dm3eM-e-a"
      },
      "source": [
        "for file in IMPACT_output_files:\n",
        "    #print(file)\n",
        "    loc_name = file.split('for')[0]\n",
        "    loc_name = loc_name.strip() "
      ],
      "execution_count": null,
      "outputs": []
    },
    {
      "cell_type": "code",
      "metadata": {
        "id": "ski-PeU--e-a",
        "outputId": "5bb9fa0d-0746-4a98-a1fd-9fda54a594de"
      },
      "source": [
        "loc_name"
      ],
      "execution_count": null,
      "outputs": [
        {
          "data": {
            "text/plain": [
              "'Patterson Lake South'"
            ]
          },
          "execution_count": 21,
          "metadata": {},
          "output_type": "execute_result"
        }
      ]
    },
    {
      "cell_type": "code",
      "metadata": {
        "id": "_HqsQ990-e-b",
        "outputId": "a7bb058e-efcf-40ed-b953-dc3f8ed491a0"
      },
      "source": [
        "local_inflow_df = pd.read_excel(local_inflow_folder_file, sheet_name=local_inflow_file_sheet_name, skiprows=[0])\n",
        "local_inflow_df.set_index('Contaminants', inplace=True)\n",
        "\n",
        "#Rename the contaminant names based on the EMMA fromat\n",
        "local_inflow_df.rename(columns = COPCs_dic,inplace=True)\n",
        "\n",
        "#Creating a dictionary of selected IMPACT_locations defined above with \n",
        "#respective concentrations and time and rename the contaminants based on the \n",
        "#EMMA format     \n",
        "\n",
        "IMPACT_df = {}\n",
        "\n",
        "for file in IMPACT_output_files:\n",
        "    #print(file)\n",
        "    loc_name = file.split('for')[0]\n",
        "    loc_name = loc_name.strip() # To remove unncessary white space\n",
        "    for l in IMPACT_locations:\n",
        "        if l == loc_name:\n",
        "            print('Location ' + str(loc_name) + ' was found.')\n",
        "            IMPACT_df_temp = pd.read_csv(IMPACT_folder + '/' + file, sep='\\t', skiprows=[7], header=6)\n",
        "            IMPACT_df_temp = IMPACT_df_temp.drop(IMPACT_df_temp.columns[IMPACT_df_temp.columns.str.startswith('Un')],1)\n",
        "            IMPACT_df_temp['Timedelta'] = pd.to_timedelta(IMPACT_df_temp['Time'], unit='Y')\n",
        "            IMPACT_df_temp['Date_Time'] = start_date + IMPACT_df_temp['Timedelta']\n",
        "                \n",
        "            IMPACT_df_temp.drop(columns=['Timedelta'], inplace=True) # remove this to make the next steps easier\n",
        "            \n",
        "            IMPACT_df_temp = IMPACT_df_temp[IMPACT_df_temp['Date_Time']<end_date]##########\n",
        "    \n",
        "            IMPACT_df[l] = IMPACT_df_temp\n",
        "                \n",
        "            IMPACT_df[l].rename(columns = COPCs_dic,inplace=True)            \n"
      ],
      "execution_count": null,
      "outputs": [
        {
          "name": "stdout",
          "output_type": "stream",
          "text": [
            "Location Broach Lake was found.\n",
            "Location Clearwater River upstream Mirror River was found.\n",
            "Location Patterson Lake North West was found.\n"
          ]
        }
      ]
    },
    {
      "cell_type": "code",
      "metadata": {
        "id": "2-AvLeDV-e-b",
        "outputId": "61916755-99be-4c9e-d6b7-296bacdb90cf"
      },
      "source": [
        "local_inflow_df"
      ],
      "execution_count": null,
      "outputs": [
        {
          "data": {
            "text/html": [
              "<div>\n",
              "<style scoped>\n",
              "    .dataframe tbody tr th:only-of-type {\n",
              "        vertical-align: middle;\n",
              "    }\n",
              "\n",
              "    .dataframe tbody tr th {\n",
              "        vertical-align: top;\n",
              "    }\n",
              "\n",
              "    .dataframe thead th {\n",
              "        text-align: right;\n",
              "    }\n",
              "</style>\n",
              "<table border=\"1\" class=\"dataframe\">\n",
              "  <thead>\n",
              "    <tr style=\"text-align: right;\">\n",
              "      <th></th>\n",
              "      <th>Arsenic</th>\n",
              "      <th>Conductivity (Field)</th>\n",
              "      <th>Calcium</th>\n",
              "      <th>Cadmium</th>\n",
              "      <th>Chloride</th>\n",
              "      <th>Cobalt</th>\n",
              "      <th>Chromium</th>\n",
              "      <th>Cesium</th>\n",
              "      <th>Copper</th>\n",
              "      <th>Iron</th>\n",
              "      <th>Magnesium</th>\n",
              "      <th>Manganese</th>\n",
              "      <th>Molybdenum</th>\n",
              "      <th>Nitrate (as N)</th>\n",
              "      <th>Ammonia (as N)</th>\n",
              "      <th>Ammonia as N</th>\n",
              "      <th>Nitrate</th>\n",
              "      <th>Sodium</th>\n",
              "      <th>Nickel</th>\n",
              "      <th>Lead</th>\n",
              "      <th>Lead-210</th>\n",
              "      <th>Polonium-210</th>\n",
              "      <th>Radium-226</th>\n",
              "      <th>Radon-222</th>\n",
              "      <th>Sulphate</th>\n",
              "      <th>Selenium</th>\n",
              "      <th>Thorium-230</th>\n",
              "      <th>Uranium</th>\n",
              "      <th>Uranium-234</th>\n",
              "      <th>Uranium-238</th>\n",
              "      <th>Vanadium</th>\n",
              "      <th>Zinc</th>\n",
              "    </tr>\n",
              "    <tr>\n",
              "      <th>Contaminants</th>\n",
              "      <th></th>\n",
              "      <th></th>\n",
              "      <th></th>\n",
              "      <th></th>\n",
              "      <th></th>\n",
              "      <th></th>\n",
              "      <th></th>\n",
              "      <th></th>\n",
              "      <th></th>\n",
              "      <th></th>\n",
              "      <th></th>\n",
              "      <th></th>\n",
              "      <th></th>\n",
              "      <th></th>\n",
              "      <th></th>\n",
              "      <th></th>\n",
              "      <th></th>\n",
              "      <th></th>\n",
              "      <th></th>\n",
              "      <th></th>\n",
              "      <th></th>\n",
              "      <th></th>\n",
              "      <th></th>\n",
              "      <th></th>\n",
              "      <th></th>\n",
              "      <th></th>\n",
              "      <th></th>\n",
              "      <th></th>\n",
              "      <th></th>\n",
              "      <th></th>\n",
              "      <th></th>\n",
              "      <th></th>\n",
              "    </tr>\n",
              "  </thead>\n",
              "  <tbody>\n",
              "    <tr>\n",
              "      <th>Sediment_input</th>\n",
              "      <td>10.478686</td>\n",
              "      <td>0.00000</td>\n",
              "      <td>23.715779</td>\n",
              "      <td>0.257873</td>\n",
              "      <td>3.707376</td>\n",
              "      <td>1.311782</td>\n",
              "      <td>5.485779</td>\n",
              "      <td>0.932560</td>\n",
              "      <td>2.352616</td>\n",
              "      <td>334.798058</td>\n",
              "      <td>8.966513</td>\n",
              "      <td>1257.059971</td>\n",
              "      <td>0.580901</td>\n",
              "      <td>0.112094</td>\n",
              "      <td>0.121854</td>\n",
              "      <td>0.000207</td>\n",
              "      <td>0.310151</td>\n",
              "      <td>10.799581</td>\n",
              "      <td>2.832545</td>\n",
              "      <td>3.155555</td>\n",
              "      <td>194.479000</td>\n",
              "      <td>197.843436</td>\n",
              "      <td>64.703058</td>\n",
              "      <td>0</td>\n",
              "      <td>9.405923</td>\n",
              "      <td>0.308154</td>\n",
              "      <td>20.809830</td>\n",
              "      <td>0.516141</td>\n",
              "      <td>6.377439</td>\n",
              "      <td>6.377439</td>\n",
              "      <td>0.337880</td>\n",
              "      <td>12.958253</td>\n",
              "    </tr>\n",
              "    <tr>\n",
              "      <th>Water_meas</th>\n",
              "      <td>0.000130</td>\n",
              "      <td>23.26662</td>\n",
              "      <td>2.717433</td>\n",
              "      <td>0.000010</td>\n",
              "      <td>0.424804</td>\n",
              "      <td>0.000100</td>\n",
              "      <td>0.000500</td>\n",
              "      <td>0.000100</td>\n",
              "      <td>0.000213</td>\n",
              "      <td>0.067573</td>\n",
              "      <td>1.027413</td>\n",
              "      <td>0.012184</td>\n",
              "      <td>0.000102</td>\n",
              "      <td>0.012844</td>\n",
              "      <td>0.013962</td>\n",
              "      <td>0.000024</td>\n",
              "      <td>0.035538</td>\n",
              "      <td>1.237452</td>\n",
              "      <td>0.000104</td>\n",
              "      <td>0.000102</td>\n",
              "      <td>0.020238</td>\n",
              "      <td>0.005153</td>\n",
              "      <td>0.005537</td>\n",
              "      <td>0</td>\n",
              "      <td>1.077762</td>\n",
              "      <td>0.000100</td>\n",
              "      <td>0.010000</td>\n",
              "      <td>0.000101</td>\n",
              "      <td>6.377439</td>\n",
              "      <td>6.377439</td>\n",
              "      <td>0.000113</td>\n",
              "      <td>0.000890</td>\n",
              "    </tr>\n",
              "    <tr>\n",
              "      <th>Water_calc</th>\n",
              "      <td>0.000130</td>\n",
              "      <td>0.00000</td>\n",
              "      <td>2.717433</td>\n",
              "      <td>0.000018</td>\n",
              "      <td>0.424804</td>\n",
              "      <td>0.000526</td>\n",
              "      <td>0.059282</td>\n",
              "      <td>0.000100</td>\n",
              "      <td>0.000788</td>\n",
              "      <td>0.067573</td>\n",
              "      <td>1.027413</td>\n",
              "      <td>0.012184</td>\n",
              "      <td>0.000184</td>\n",
              "      <td>0.012844</td>\n",
              "      <td>0.013962</td>\n",
              "      <td>0.000024</td>\n",
              "      <td>0.035538</td>\n",
              "      <td>1.237452</td>\n",
              "      <td>0.000326</td>\n",
              "      <td>0.000033</td>\n",
              "      <td>0.002743</td>\n",
              "      <td>0.002790</td>\n",
              "      <td>0.005538</td>\n",
              "      <td>0</td>\n",
              "      <td>1.077762</td>\n",
              "      <td>0.000016</td>\n",
              "      <td>0.009067</td>\n",
              "      <td>0.000027</td>\n",
              "      <td>0.000332</td>\n",
              "      <td>0.000332</td>\n",
              "      <td>0.000113</td>\n",
              "      <td>0.000890</td>\n",
              "    </tr>\n",
              "    <tr>\n",
              "      <th>Sediment_meas</th>\n",
              "      <td>3.195999</td>\n",
              "      <td>0.00000</td>\n",
              "      <td>1629.436000</td>\n",
              "      <td>0.257873</td>\n",
              "      <td>0.000000</td>\n",
              "      <td>1.311782</td>\n",
              "      <td>5.485779</td>\n",
              "      <td>0.176139</td>\n",
              "      <td>2.352616</td>\n",
              "      <td>16040.400000</td>\n",
              "      <td>536.727200</td>\n",
              "      <td>402.602800</td>\n",
              "      <td>0.580901</td>\n",
              "      <td>0.000000</td>\n",
              "      <td>0.000000</td>\n",
              "      <td>0.000000</td>\n",
              "      <td>0.000000</td>\n",
              "      <td>104.945000</td>\n",
              "      <td>2.832545</td>\n",
              "      <td>3.155555</td>\n",
              "      <td>194.479000</td>\n",
              "      <td>157.045100</td>\n",
              "      <td>27.608530</td>\n",
              "      <td>0</td>\n",
              "      <td>0.000000</td>\n",
              "      <td>0.308154</td>\n",
              "      <td>20.809830</td>\n",
              "      <td>0.516141</td>\n",
              "      <td>NaN</td>\n",
              "      <td>NaN</td>\n",
              "      <td>8.091691</td>\n",
              "      <td>13.990960</td>\n",
              "    </tr>\n",
              "  </tbody>\n",
              "</table>\n",
              "</div>"
            ],
            "text/plain": [
              "                  Arsenic  Conductivity (Field)      Calcium   Cadmium  Chloride    Cobalt  Chromium    Cesium    Copper          Iron   Magnesium    Manganese  Molybdenum  Nitrate (as N)  Ammonia (as N)  Ammonia as N   Nitrate      Sodium    Nickel      Lead    Lead-210  Polonium-210  Radium-226  Radon-222  Sulphate  Selenium  Thorium-230   Uranium  Uranium-234  Uranium-238  Vanadium       Zinc\n",
              "Contaminants                                                                                                                                                                                                                                                                                                                                                                                                  \n",
              "Sediment_input  10.478686               0.00000    23.715779  0.257873  3.707376  1.311782  5.485779  0.932560  2.352616    334.798058    8.966513  1257.059971    0.580901        0.112094        0.121854      0.000207  0.310151   10.799581  2.832545  3.155555  194.479000    197.843436   64.703058          0  9.405923  0.308154    20.809830  0.516141     6.377439     6.377439  0.337880  12.958253\n",
              "Water_meas       0.000130              23.26662     2.717433  0.000010  0.424804  0.000100  0.000500  0.000100  0.000213      0.067573    1.027413     0.012184    0.000102        0.012844        0.013962      0.000024  0.035538    1.237452  0.000104  0.000102    0.020238      0.005153    0.005537          0  1.077762  0.000100     0.010000  0.000101     6.377439     6.377439  0.000113   0.000890\n",
              "Water_calc       0.000130               0.00000     2.717433  0.000018  0.424804  0.000526  0.059282  0.000100  0.000788      0.067573    1.027413     0.012184    0.000184        0.012844        0.013962      0.000024  0.035538    1.237452  0.000326  0.000033    0.002743      0.002790    0.005538          0  1.077762  0.000016     0.009067  0.000027     0.000332     0.000332  0.000113   0.000890\n",
              "Sediment_meas    3.195999               0.00000  1629.436000  0.257873  0.000000  1.311782  5.485779  0.176139  2.352616  16040.400000  536.727200   402.602800    0.580901        0.000000        0.000000      0.000000  0.000000  104.945000  2.832545  3.155555  194.479000    157.045100   27.608530          0  0.000000  0.308154    20.809830  0.516141          NaN          NaN  8.091691  13.990960"
            ]
          },
          "execution_count": 23,
          "metadata": {},
          "output_type": "execute_result"
        }
      ]
    },
    {
      "cell_type": "markdown",
      "metadata": {
        "id": "1XOAx-dg-e-b"
      },
      "source": [
        "Read the file that will contain the units and format it to drop all the \n",
        "unnecessary stuff:\n",
        "Remove the first 2 unnecessary columns from the first elements and one element \n",
        "from the lastvand add an another element called time to the end of the list\n",
        "Becareful: To plot sediment outpots unit_ls = unit_ls[1:-1] because in \n",
        "sediment we dont have outflow (second elements)"
      ]
    },
    {
      "cell_type": "code",
      "metadata": {
        "id": "HGuJfMfK-e-b"
      },
      "source": [
        "# if mode=='water':\n",
        "#     startcolumn=2\n",
        "# elif mode=='sediment':\n",
        "#     startcolumn=1\n",
        "# else:\n",
        "#     print('Enter an analysis mode at the top!')"
      ],
      "execution_count": null,
      "outputs": []
    },
    {
      "cell_type": "code",
      "metadata": {
        "id": "M2vOdib--e-c"
      },
      "source": [
        "unit_ls_path = './'+ IMPACT_folder +'/'+ loc_name_plot+ '.xls'\n",
        "unit_ls = list(pd.read_csv(unit_ls_path, sep='\\t',skiprows=6).iloc[0,:])\n",
        "unit_ls = unit_ls[2:-1]\n",
        "\n",
        "unit_ls.append('Year')"
      ],
      "execution_count": null,
      "outputs": []
    },
    {
      "cell_type": "markdown",
      "metadata": {
        "id": "FTuJGV3N-e-c"
      },
      "source": [
        "To check that we have the same COPCs for all dataframes.\n",
        "The dataframe COPCs will be compared with COPCs in local inflow\n",
        "If they are not of equal length some COPCs will have to be added."
      ]
    },
    {
      "cell_type": "code",
      "metadata": {
        "id": "cs6F_uKA-e-c",
        "outputId": "e4286856-2a19-4b1c-820d-6b5ed81b1e2f"
      },
      "source": [
        "copcs_EMMA"
      ],
      "execution_count": null,
      "outputs": [
        {
          "data": {
            "text/plain": [
              "array(['% Moisture', 'Aluminum', 'Antimony', 'Arsenic', 'Barium',\n",
              "       'Beryllium', 'Boron', 'Cadmium', 'Chromium', 'Cobalt', 'Copper',\n",
              "       'Iron', 'Lead', 'Lead-210', 'Manganese', 'Mercury', 'Molybdenum',\n",
              "       'Nickel', 'Polonium-210', 'Radium-226', 'Selenium', 'Silver',\n",
              "       'Strontium', 'Thallium', 'Thorium-230', 'Tin', 'Titanium',\n",
              "       'Uranium', 'Vanadium', 'Zinc'], dtype=object)"
            ]
          },
          "execution_count": 26,
          "metadata": {},
          "output_type": "execute_result"
        }
      ]
    },
    {
      "cell_type": "code",
      "metadata": {
        "id": "ga31GidH-e-c",
        "outputId": "8f640318-f27e-44db-a131-26d9fccd4b82"
      },
      "source": [
        "copcs_local_inflow = local_inflow_df.columns\n",
        "\n",
        "if len(copcs_local_inflow)==len(copcs_EMMA):\n",
        "    print(f'The size of copcs_EMMA is: {len(copcs_EMMA)}, equal to the size of copcs_local_inflow: {len(copcs_local_inflow)}' )\n",
        "else:\n",
        "    print('The copc arrays are not of equal length, we need to add the missing ones.')\n",
        "\n",
        "copcs_missing =  list(set(copcs_local_inflow)-set(copcs_EMMA))\n",
        "print('The missing copcs are '+ str(copcs_missing))\n",
        "\n",
        "for m in copcs_missing:\n",
        "    #TODO:correct units maybe?\n",
        "    if mode=='Northern Pike Fish':\n",
        "        toAdd= ['NPF_' + str(m).lower() + '_mg/l', str(m), 'mg/L', start_date, end_date]\n",
        "    elif mode=='White Fish':\n",
        "        toAdd= ['WF_' + str(m).lower() + '_mg/kg', str(m), 'mg/kg', start_date,end_date]\n",
        "    else:\n",
        "        print('Enter an analysis mode at the top!')\n",
        "    \n",
        "    EMMA_df = pd.concat([EMMA_df, pd.DataFrame([toAdd + ([np.nan] * (EMMA_df.shape[1]-len(toAdd)))], columns=EMMA_df.columns)], ignore_index=True)\n",
        "    EMMA_Stat_df = pd.concat([EMMA_Stat_df, pd.DataFrame([toAdd + ([np.nan] * (EMMA_Stat_df.shape[1]-len(toAdd)))], columns=EMMA_Stat_df.columns)], ignore_index=True)"
      ],
      "execution_count": null,
      "outputs": [
        {
          "name": "stdout",
          "output_type": "stream",
          "text": [
            "The copc arrays are not of equal length, we need to add the missing ones.\n",
            "The missing copcs are ['Calcium', 'Uranium-238', 'Uranium-234', 'Chloride', 'Sodium', 'Ammonia (as N)', 'Radon-222', 'Nitrate (as N)', 'Conductivity (Field)', 'Sulphate', 'Magnesium', 'Cesium', 'Nitrate', 'Ammonia as N']\n"
          ]
        }
      ]
    },
    {
      "cell_type": "markdown",
      "metadata": {
        "id": "TpYnJSOL-e-c"
      },
      "source": [
        "# Plotting the IMPACT Dataframe"
      ]
    },
    {
      "cell_type": "code",
      "metadata": {
        "id": "kZI1p4FX-e-c",
        "outputId": "29aae356-dd42-4c18-c9f0-e59e71dc5ce2"
      },
      "source": [
        "IMPACT_df.keys()"
      ],
      "execution_count": null,
      "outputs": [
        {
          "data": {
            "text/plain": [
              "dict_keys(['Broach Lake', 'Clearwater River upstream Mirror River', 'Patterson Lake North West'])"
            ]
          },
          "execution_count": 28,
          "metadata": {},
          "output_type": "execute_result"
        }
      ]
    },
    {
      "cell_type": "code",
      "metadata": {
        "id": "VojZXcyT-e-d"
      },
      "source": [
        "#format input dates\n",
        "#TODO: this needs to change to the dates that we enter at the top\n",
        "dates_IMPACT = matplotlib.dates.date2num(IMPACT_df['Broach Lake']['Date_Time'])\n",
        "#round IMPACT data:\n",
        "for i in (IMPACT_df.keys()):\n",
        "    IMPACT_df[i] = IMPACT_df[i].round(IMPACT_decimal_place)"
      ],
      "execution_count": null,
      "outputs": []
    },
    {
      "cell_type": "code",
      "metadata": {
        "id": "m8fc9rF8-e-d",
        "outputId": "a9e291b2-a36b-4481-eb59-f3fdaf10266a"
      },
      "source": [
        "#here is where the plotting happens:\n",
        "fig, axes = plt.subplots(nrows=8, ncols=4, dpi = 200)\n",
        "\n",
        "fig.set_figwidth(10)\n",
        "fig.set_figheight(20)\n",
        "\n",
        "axes = axes.ravel()\n",
        "\n",
        "if mode=='Northern Pike Fish':\n",
        "    for m,i in enumerate(IMPACT_locations):\n",
        "\n",
        "        for j,k in enumerate(IMPACT_df[i].columns[2:-1]):\n",
        "\n",
        "            if m==0:\n",
        "                axes[j].plot_date(dates_IMPACT, IMPACT_df[i][k], ls='--',marker= '',c=IMPACT_color_ls[m], label=i)\n",
        "                axes[j].set_ylabel(k+ ' ' + '(' + unit_ls[j] + ')', fontsize=5)\n",
        "\n",
        "                axes[j].xaxis.set_major_locator(mdates.YearLocator(1)) # 10 years of interval\n",
        "                axes[j].xaxis.set_major_formatter(DateFormatter(\"%Y\"))\n",
        "\n",
        "                axes[j].tick_params(labelsize = 5)\n",
        "\n",
        "            if m==1:\n",
        "                axes[j].plot_date(dates_IMPACT, IMPACT_df[i][k], ls='-.',marker='',c=IMPACT_color_ls[m], label=i)\n",
        "\n",
        "            if m==2:\n",
        "                axes[j].plot_date(dates_IMPACT, IMPACT_df[i][k], ls=':',marker='',c=IMPACT_color_ls[m], label=i)\n",
        "\n",
        "            fig.tight_layout()\n",
        "\n",
        "            bbox = axes[j].get_tightbbox(fig.canvas.get_renderer())\n",
        "            fig.savefig(str(IMPACT_NPF_plots_folder)+'/'+\"{}.png\".format(k),\n",
        "                  bbox_inches=bbox.transformed(fig.dpi_scale_trans.inverted()))    \n",
        "\n",
        "            handles, labels = axes[j].get_legend_handles_labels()\n",
        "\n",
        "    fig.savefig(str(IMPACT_NPF_plots_folder)+'/IMPACT.png')\n",
        "    print('IMPACT figures are plotted and saved in '+str(IMPACT_NPF_plots_folder))\n",
        "    plt.close('all')\n",
        "    #print the labels\n",
        "    leg_fig = pylab.figure(figsize=(5,3), dpi=200)\n",
        "    leg_ax = fig.add_subplot(111)\n",
        "    leg_fig.legend(handles, labels, 'center', ncol=1)\n",
        "    leg_fig.savefig(str(IMPACT_NPF_plots_folder)+'/IMPACT_legend.png',bbox_inches='tight')\n",
        "    \n",
        "    \n",
        "    \n",
        "if mode=='White Fish':\n",
        "    for m,i in enumerate(IMPACT_locations):\n",
        "\n",
        "        for j,k in enumerate(IMPACT_df[i].columns[2:-1]):\n",
        "\n",
        "            if m==0:\n",
        "                axes[j].plot_date(dates_IMPACT, IMPACT_df[i][k], ls='--',marker= '',c=IMPACT_color_ls[m], label=i)\n",
        "                axes[j].set_ylabel(k+ ' ' + '(' + unit_ls[j] + ')', fontsize=5)\n",
        "\n",
        "                axes[j].xaxis.set_major_locator(mdates.YearLocator(1)) # 10 years of interval\n",
        "                axes[j].xaxis.set_major_formatter(DateFormatter(\"%Y\"))\n",
        "\n",
        "                axes[j].tick_params(labelsize = 5)\n",
        "\n",
        "            if m==1:\n",
        "                axes[j].plot_date(dates_IMPACT, IMPACT_df[i][k], ls='-.',marker='',c=IMPACT_color_ls[m], label=i)\n",
        "\n",
        "            if m==2:\n",
        "                axes[j].plot_date(dates_IMPACT, IMPACT_df[i][k], ls=':',marker='',c=IMPACT_color_ls[m], label=i)\n",
        "\n",
        "            fig.tight_layout()\n",
        "\n",
        "            bbox = axes[j].get_tightbbox(fig.canvas.get_renderer())\n",
        "            fig.savefig(str(IMPACT_WF_plots_folder)+'/'+\"{}.png\".format(k),\n",
        "                  bbox_inches=bbox.transformed(fig.dpi_scale_trans.inverted()))    \n",
        "\n",
        "            handles, labels = axes[j].get_legend_handles_labels()\n",
        "\n",
        "    fig.savefig(str(IMPACT_WF_plots_folder)+'/IMPACT.png')\n",
        "    print('IMPACT figures are plotted and saved in '+str(IMPACT_WF_plots_folder))\n",
        "    plt.close('all')\n",
        "    #print the labels\n",
        "    leg_fig = pylab.figure(figsize=(5,3), dpi=200)\n",
        "    leg_ax = fig.add_subplot(111)\n",
        "    leg_fig.legend(handles, labels, 'center', ncol=1)\n",
        "    leg_fig.savefig(str(IMPACT_WF_plots_folder)+'/IMPACT_legend.png',bbox_inches='tight')"
      ],
      "execution_count": null,
      "outputs": [
        {
          "name": "stdout",
          "output_type": "stream",
          "text": [
            "IMPACT figures are plotted and saved in ./plots/Impact_Plots_Northern Pike Fish\n"
          ]
        },
        {
          "data": {
            "text/plain": [
              "<Figure size 1000x600 with 0 Axes>"
            ]
          },
          "metadata": {},
          "output_type": "display_data"
        }
      ]
    },
    {
      "cell_type": "markdown",
      "metadata": {
        "id": "aRP1ZdYf-e-d"
      },
      "source": [
        "Adding EMMA data\n",
        "Creating a dictionary of EMMA dataframes for the selected EMMA_locations\n",
        "\n",
        "EMMA_df_s == Selected EMMA_dfCreating a dictionary of EMMA dataframes for the selected EMMA_locations\n",
        "EMMA_df_s == Selected EMMA_df\n",
        "\n",
        "Then:\n",
        "Creating two sets of dataframes for the measurements above and below detection limit\n",
        "T=Below DL\n",
        "F=Above DL"
      ]
    },
    {
      "cell_type": "markdown",
      "metadata": {
        "id": "2tA7cpbX-e-d"
      },
      "source": [
        "To apply the end_date to EMMA\n",
        "EMMA_df = EMMA_df[EMMA_df['Sample_DateTime']<end_date]\n",
        "This length of this list is used for marker shapes\n",
        "len(EMMA_location_alias)"
      ]
    },
    {
      "cell_type": "code",
      "metadata": {
        "id": "wVaBby0C-e-d"
      },
      "source": [
        "EMMA_df = EMMA_df[EMMA_df['Sample_DateTime']<end_date]"
      ],
      "execution_count": null,
      "outputs": []
    },
    {
      "cell_type": "code",
      "metadata": {
        "id": "UHDM5vZR-e-d",
        "outputId": "7e446edc-dd09-4fd6-a8c9-7c7bc611e127"
      },
      "source": [
        "EMMA_df_s = {} # Selected dataframe\n",
        "\n",
        "for l in EMMA_locations:\n",
        "    EMMA_df_temp = EMMA_df.filter(regex=(l))#filters all column entrys based on the name l\n",
        "    EMMA_df_s[l] = EMMA_df_temp\n",
        "\n",
        "print('The selected EMMA sampling locations for plotting are: '+str(EMMA_df_s.keys()))"
      ],
      "execution_count": null,
      "outputs": [
        {
          "name": "stdout",
          "output_type": "stream",
          "text": [
            "The selected EMMA sampling locations for plotting are: dict_keys(['PL', 'BeetL', 'FL', 'NL', 'LLI', 'BL', 'CR'])\n"
          ]
        }
      ]
    },
    {
      "cell_type": "code",
      "metadata": {
        "id": "r50P67F2-e-e"
      },
      "source": [
        "# EMMA_df[EMMA_df['Parameter_ID']=='Vanadium']"
      ],
      "execution_count": null,
      "outputs": []
    },
    {
      "cell_type": "markdown",
      "metadata": {
        "id": "Sv1Q1w2X-e-e"
      },
      "source": [
        "seperate dfs for under and over DL"
      ]
    },
    {
      "cell_type": "code",
      "metadata": {
        "id": "JRatvl8q-e-e"
      },
      "source": [
        "dates_EMMA = [pd.to_datetime(d) for d in EMMA_df['Sample_DateTime']]\n",
        "\n",
        "dates_EMMA = matplotlib.dates.date2num(dates_EMMA)\n",
        "EMMA_df_s_T = {}\n",
        "EMMA_df_s_F = {}\n",
        "\n",
        "for l in EMMA_locations:\n",
        "    EMMA_df_temp_T = EMMA_df_s[l][EMMA_df_s[l].columns[EMMA_df_s[l].columns.str.endswith('True')]]\n",
        "    EMMA_df_s_T[l] =  pd.concat([EMMA_df[['Parameter_ID','Units']],EMMA_df_temp_T, EMMA_df['Sample_DateTime'],\n",
        "                                 pd.DataFrame(dates_EMMA,columns=['Time']) ],axis=1) \n",
        "           \n",
        "    EMMA_df_temp_F = EMMA_df_s[l][EMMA_df_s[l].columns[EMMA_df_s[l].columns.str.endswith('False')]]\n",
        "    EMMA_df_s_F[l] = pd.concat([EMMA_df[['Parameter_ID','Units']],EMMA_df_temp_F, EMMA_df['Sample_DateTime'],\n",
        "                               pd.DataFrame(dates_EMMA,columns=['Time'])],axis=1) "
      ],
      "execution_count": null,
      "outputs": []
    },
    {
      "cell_type": "markdown",
      "metadata": {
        "id": "q1L58sdB-e-e"
      },
      "source": [
        "Reading the WQG and SQG\n"
      ]
    },
    {
      "cell_type": "code",
      "metadata": {
        "id": "7KQ4NAjH-e-e"
      },
      "source": [
        "# QG_df = pd.read_excel(QG_folder_file, sheet_name=QG_file_sheet_name)\n",
        "# print('Quality guidelines from: '+str(QG_file_sheet_name))"
      ],
      "execution_count": null,
      "outputs": []
    },
    {
      "cell_type": "markdown",
      "metadata": {
        "id": "Fy-Cg0I4-e-e"
      },
      "source": [
        "plot the IMPACT, EMMA, with the measurement data and the Quality Guidelines\n"
      ]
    },
    {
      "cell_type": "code",
      "metadata": {
        "id": "3cYdlWUi-e-e",
        "outputId": "39c335fd-9de6-4a2a-ed2f-f25ae85c702b"
      },
      "source": [
        "fig, axes = plt.subplots(nrows=32, ncols=1, dpi = 200)\n",
        "#the nrows is a problem, here we have 27, if we ever have more we'll be plotting less\n",
        "\n",
        "fig.set_figwidth(10)\n",
        "fig.set_figheight(120)\n",
        "\n",
        "\n",
        "axes = axes.ravel()#this combines multidimensional arrays to one dimensio, probably does nothing here\n",
        "\n",
        "if mode=='Northern Pike Fish':\n",
        "    for m,i in enumerate(IMPACT_locations): # Legend-location\n",
        "        for n,j in enumerate(IMPACT_df[i].columns[2:-1]): # Label-concentration\n",
        "\n",
        "            if m==0:\n",
        "\n",
        "                axes[n].plot_date(dates_IMPACT, IMPACT_df[i][j], ls='--',marker= '',c=IMPACT_color_ls[m], label='IMPACT Prediction'+'-'+i)   # To plot IMPACT           \n",
        "                axes[n].set_ylabel(j + ' ' + '(' + unit_ls[n] + ')', fontsize=8)            \n",
        "                axes[n].xaxis.set_major_locator(mdates.YearLocator(1)) # 10 years of interval\n",
        "                axes[n].xaxis.set_major_formatter(DateFormatter(\"%Y\"))            \n",
        "                axes[n].tick_params(labelsize = 8)\n",
        "\n",
        "            if m==1:\n",
        "                axes[n].plot_date(dates_IMPACT, IMPACT_df[i][j], ls='-.',marker='',c=IMPACT_color_ls[m], label='IMPACT Prediction'+'-'+i)\n",
        "\n",
        "            if m==2:\n",
        "                axes[n].plot_date(dates_IMPACT, IMPACT_df[i][j], ls=':',marker='',c=IMPACT_color_ls[m], label='IMPACT Prediction'+'-'+i)\n",
        "\n",
        "                if len(EMMA_Stat_df.loc[EMMA_Stat_df['Parameter'] == j])==0:\n",
        "                    continue\n",
        "                geom_m_EMMA = EMMA_Stat_df.loc[EMMA_Stat_df['Parameter'] == j]['Geometric_Mean'].iloc[0]\n",
        "                axes[n].plot_date([start_date,end_date],[geom_m_EMMA, geom_m_EMMA],ls='-',marker=' ',\n",
        "                                  c=geom_m_EMMA_ls[0], label='Observed Geometric Mean')\n",
        "\n",
        "                for p,l in enumerate(EMMA_locations):\n",
        "                    #print(p,l)\n",
        "                    grouped_F = EMMA_df_s_F[EMMA_locations[p]].groupby('Parameter_ID')\n",
        "                    grouped_T = EMMA_df_s_T[EMMA_locations[p]].groupby('Parameter_ID')\n",
        "                    if j in (grouped_T.describe().index): # To check if the concentration in EMMA-Sometimes because of the end date we might loose some concentrations\n",
        "                        EMMA_copc_F_df = grouped_F.get_group(j)\n",
        "                        EMMA_copc_T_df = grouped_T.get_group(j)\n",
        "\n",
        "                        temp_ls_F = list(EMMA_copc_F_df.columns[EMMA_copc_F_df.columns.str.endswith('False')])\n",
        "                        temp_ls_T = list(EMMA_copc_T_df.columns[EMMA_copc_T_df.columns.str.endswith('True')])\n",
        "\n",
        "                        col_ls_temp_F_0 = EMMA_df_s_F[l].columns\n",
        "                        col_ls_temp_F_1 = [s for s in col_ls_temp_F_0 if l in s]\n",
        "                        label_F_ls = [word[:-5] for word in col_ls_temp_F_1]\n",
        "\n",
        "                        col_ls_temp_T_0 = EMMA_df_s_T[l].columns\n",
        "                        col_ls_temp_T_1 = [s for s in col_ls_temp_T_0 if l in s]\n",
        "                        label_T_ls = [word[:-4] for word in col_ls_temp_T_1]\n",
        "\n",
        "\n",
        "                        if len(EMMA_copc_T_df.columns)>5:\n",
        "\n",
        "                                for o,k in enumerate(temp_ls_F): # To plot EMMA \n",
        "                                    axes[n].plot_date(EMMA_copc_F_df['Time'], EMMA_copc_F_df[k], marker=EMMA_marker_ls[p], markersize=5,c=cols_ls_2[o],\n",
        "                                                      label='Observed Data'+'-'+ EMMA_location_alias[EMMA_locations.index(label_F_ls[o])] )  \n",
        "\n",
        "                                for o,k in enumerate(temp_ls_T): # To plot EMMA\n",
        "                                    axes[n].plot_date(EMMA_copc_T_df['Time'], EMMA_copc_T_df[k],\n",
        "                                                      marker=EMMA_marker_ls[p], markerfacecolor='white',markersize=5,c=cols_ls_2[o],\n",
        "                                                      label='Below Detection Limit'+'-'+EMMA_location_alias[EMMA_locations.index(label_T_ls[o])]) \n",
        "                        else:\n",
        "\n",
        "                                for o,k in enumerate(temp_ls_F): # To plot EMMA \n",
        "                                    axes[n].plot_date(EMMA_copc_F_df['Time'], EMMA_copc_F_df[k], marker=EMMA_marker_ls[p], markersize=5,c=cols_ls_1[p],\n",
        "                                                        label='Observed Data'+'-'+ EMMA_location_alias[EMMA_locations.index(label_F_ls[o])] )  \n",
        "\n",
        "                                for o,k in enumerate(temp_ls_T): # To plot EMMA\n",
        "                                    axes[n].plot_date(EMMA_copc_T_df['Time'], EMMA_copc_T_df[k],\n",
        "                                                      marker=EMMA_marker_ls[p], markerfacecolor='white',markersize=5,c=cols_ls_1[p],\n",
        "                                                      label='Below Detection Limit'+'-'+EMMA_location_alias[EMMA_locations.index(label_T_ls[o])])\n",
        "\n",
        "\n",
        "                fig.tight_layout()\n",
        "\n",
        "                bbox = axes[n].get_tightbbox(fig.canvas.get_renderer())\n",
        "                fig.savefig(str(IMPACT_EMMA_NPF_Plots_folder)+'/'+\"{}.png\".format(j),\n",
        "                      bbox_inches=bbox.transformed(fig.dpi_scale_trans.inverted()))    \n",
        "\n",
        "                handles, labels = axes[n].get_legend_handles_labels()\n",
        "    #print('IMPACT figures are plotted and saved in '+str(IMPACT_plots_folder))\n",
        "    plt.close('all')\n",
        "    leg_fig = pylab.figure(figsize=(5,3), dpi=200)\n",
        "    leg_ax = fig.add_subplot(111)\n",
        "    leg_fig.legend(handles, labels, 'center', ncol=3)\n",
        "    leg_fig.savefig(str(IMPACT_EMMA_NPF_Plots_folder)+'/IMPACT_EMMA_legend.png',bbox_inches='tight')"
      ],
      "execution_count": null,
      "outputs": [
        {
          "data": {
            "text/plain": [
              "<Figure size 1000x600 with 0 Axes>"
            ]
          },
          "metadata": {},
          "output_type": "display_data"
        }
      ]
    },
    {
      "cell_type": "code",
      "metadata": {
        "id": "YRuJHIHg-e-f"
      },
      "source": [
        "fig, axes = plt.subplots(nrows=32, ncols=1, dpi = 200)\n",
        "#the nrows is a problem, here we have 27, if we ever have more we'll be plotting less\n",
        "\n",
        "fig.set_figwidth(10)\n",
        "fig.set_figheight(120)\n",
        "\n",
        "\n",
        "axes = axes.ravel()#this combines multidimensional arrays to one dimensio, probably does nothing here\n",
        "\n",
        "if mode=='White Fish':\n",
        "    for m,i in enumerate(IMPACT_locations): # Legend-location\n",
        "        for n,j in enumerate(IMPACT_df[i].columns[2:-1]): # Label-concentration\n",
        "\n",
        "            if m==0:\n",
        "\n",
        "                axes[n].plot_date(dates_IMPACT, IMPACT_df[i][j], ls='--',marker= '',c=IMPACT_color_ls[m], label='IMPACT Prediction'+'-'+i)   # To plot IMPACT           \n",
        "                axes[n].set_ylabel(j + ' ' + '(' + unit_ls[n] + ')', fontsize=8)            \n",
        "                axes[n].xaxis.set_major_locator(mdates.YearLocator(1)) # 10 years of interval\n",
        "                axes[n].xaxis.set_major_formatter(DateFormatter(\"%Y\"))            \n",
        "                axes[n].tick_params(labelsize = 8)\n",
        "\n",
        "            if m==1:\n",
        "                axes[n].plot_date(dates_IMPACT, IMPACT_df[i][j], ls='-.',marker='',c=IMPACT_color_ls[m], label='IMPACT Prediction'+'-'+i)\n",
        "\n",
        "            if m==2:\n",
        "                axes[n].plot_date(dates_IMPACT, IMPACT_df[i][j], ls=':',marker='',c=IMPACT_color_ls[m], label='IMPACT Prediction'+'-'+i)\n",
        "\n",
        "                if len(EMMA_Stat_df.loc[EMMA_Stat_df['Parameter'] == j])==0:\n",
        "                    continue\n",
        "                geom_m_EMMA = EMMA_Stat_df.loc[EMMA_Stat_df['Parameter'] == j]['Geometric_Mean'].iloc[0]\n",
        "                axes[n].plot_date([start_date,end_date],[geom_m_EMMA, geom_m_EMMA],ls='-',marker=' ',\n",
        "                                  c=geom_m_EMMA_ls[0], label='Observed Geometric Mean')\n",
        "\n",
        "                for p,l in enumerate(EMMA_locations):\n",
        "                    #print(p,l)\n",
        "                    grouped_F = EMMA_df_s_F[EMMA_locations[p]].groupby('Parameter_ID')\n",
        "                    grouped_T = EMMA_df_s_T[EMMA_locations[p]].groupby('Parameter_ID')\n",
        "                    if j in (grouped_T.describe().index): # To check if the concentration in EMMA-Sometimes because of the end date we might loose some concentrations\n",
        "                        EMMA_copc_F_df = grouped_F.get_group(j)\n",
        "                        EMMA_copc_T_df = grouped_T.get_group(j)\n",
        "\n",
        "                        temp_ls_F = list(EMMA_copc_F_df.columns[EMMA_copc_F_df.columns.str.endswith('False')])\n",
        "                        temp_ls_T = list(EMMA_copc_T_df.columns[EMMA_copc_T_df.columns.str.endswith('True')])\n",
        "\n",
        "                        col_ls_temp_F_0 = EMMA_df_s_F[l].columns\n",
        "                        col_ls_temp_F_1 = [s for s in col_ls_temp_F_0 if l in s]\n",
        "                        label_F_ls = [word[:-5] for word in col_ls_temp_F_1]\n",
        "\n",
        "                        col_ls_temp_T_0 = EMMA_df_s_T[l].columns\n",
        "                        col_ls_temp_T_1 = [s for s in col_ls_temp_T_0 if l in s]\n",
        "                        label_T_ls = [word[:-4] for word in col_ls_temp_T_1]\n",
        "\n",
        "\n",
        "                        if len(EMMA_copc_T_df.columns)>5:\n",
        "\n",
        "                                for o,k in enumerate(temp_ls_F): # To plot EMMA \n",
        "                                    axes[n].plot_date(EMMA_copc_F_df['Time'], EMMA_copc_F_df[k], marker=EMMA_marker_ls[p], markersize=5,c=cols_ls_2[o],\n",
        "                                                      label='Observed Data'+'-'+ EMMA_location_alias[EMMA_locations.index(label_F_ls[o])] )  \n",
        "\n",
        "                                for o,k in enumerate(temp_ls_T): # To plot EMMA\n",
        "                                    axes[n].plot_date(EMMA_copc_T_df['Time'], EMMA_copc_T_df[k],\n",
        "                                                      marker=EMMA_marker_ls[p], markerfacecolor='white',markersize=5,c=cols_ls_2[o],\n",
        "                                                      label='Below Detection Limit'+'-'+EMMA_location_alias[EMMA_locations.index(label_T_ls[o])]) \n",
        "                        else:\n",
        "\n",
        "                                for o,k in enumerate(temp_ls_F): # To plot EMMA \n",
        "                                    axes[n].plot_date(EMMA_copc_F_df['Time'], EMMA_copc_F_df[k], marker=EMMA_marker_ls[p], markersize=5,c=cols_ls_1[p],\n",
        "                                                        label='Observed Data'+'-'+ EMMA_location_alias[EMMA_locations.index(label_F_ls[o])] )  \n",
        "\n",
        "                                for o,k in enumerate(temp_ls_T): # To plot EMMA\n",
        "                                    axes[n].plot_date(EMMA_copc_T_df['Time'], EMMA_copc_T_df[k],\n",
        "                                                      marker=EMMA_marker_ls[p], markerfacecolor='white',markersize=5,c=cols_ls_1[p],\n",
        "                                                      label='Below Detection Limit'+'-'+EMMA_location_alias[EMMA_locations.index(label_T_ls[o])])\n",
        "\n",
        "\n",
        "                fig.tight_layout()\n",
        "\n",
        "                bbox = axes[n].get_tightbbox(fig.canvas.get_renderer())\n",
        "                fig.savefig(str(IMPACT_EMMA_WF_Plots_folder)+'/'+\"{}.png\".format(j),\n",
        "                      bbox_inches=bbox.transformed(fig.dpi_scale_trans.inverted()))    \n",
        "\n",
        "                handles, labels = axes[n].get_legend_handles_labels()\n",
        "    #print('IMPACT figures are plotted and saved in '+str(IMPACT_plots_folder))\n",
        "    plt.close('all')\n",
        "    leg_fig = pylab.figure(figsize=(5,3), dpi=200)\n",
        "    leg_ax = fig.add_subplot(111)\n",
        "    leg_fig.legend(handles, labels, 'center', ncol=3)\n",
        "    leg_fig.savefig(str(IMPACT_EMMA_WF_Plots_folder)+'/IMPACT_EMMA_legend.png',bbox_inches='tight')"
      ],
      "execution_count": null,
      "outputs": []
    },
    {
      "cell_type": "code",
      "metadata": {
        "id": "xmkAosrt-e-f",
        "outputId": "044452f9-3aa8-44f7-e741-ed24a9f93c4a"
      },
      "source": [
        "(IMPACT_df['Broach Lake'].columns)"
      ],
      "execution_count": null,
      "outputs": [
        {
          "data": {
            "text/plain": [
              "Index(['Time', 'Ammonia (as N)', 'Arsenic', 'Conductivity (Field)', 'Calcium', 'Cadmium', 'Chloride', 'Cobalt', 'Chromium', 'Cesium', 'Copper', 'Iron', 'Magnesium', 'Manganese', 'Molybdenum', 'Ammonia as N', 'Nitrate', 'Sodium', 'Nickel', 'Nitrate (as N)', 'Lead', 'Lead-210', 'Polonium-210', 'Radium-226', 'Radon-222', 'Sulphate', 'Selenium', 'Thorium-230', 'Uranium', 'Uranium-234', 'Uranium-238', 'Vanadium', 'Zinc', 'Date_Time'], dtype='object')"
            ]
          },
          "execution_count": 38,
          "metadata": {},
          "output_type": "execute_result"
        }
      ]
    },
    {
      "cell_type": "code",
      "metadata": {
        "id": "XGilz81--e-f",
        "outputId": "6c26d0d4-2415-425e-fca0-cc70d4d885e1"
      },
      "source": [
        "EMMA_df.Parameter_ID.unique()"
      ],
      "execution_count": null,
      "outputs": [
        {
          "data": {
            "text/plain": [
              "array(['% Moisture', 'Aluminum', 'Antimony', 'Arsenic', 'Barium',\n",
              "       'Beryllium', 'Boron', 'Cadmium', 'Chromium', 'Cobalt', 'Copper',\n",
              "       'Iron', 'Lead', 'Lead-210', 'Manganese', 'Mercury', 'Molybdenum',\n",
              "       'Nickel', 'Polonium-210', 'Radium-226', 'Selenium', 'Silver',\n",
              "       'Strontium', 'Thallium', 'Thorium-230', 'Tin', 'Titanium',\n",
              "       'Uranium', 'Vanadium', 'Zinc'], dtype=object)"
            ]
          },
          "execution_count": 39,
          "metadata": {},
          "output_type": "execute_result"
        }
      ]
    },
    {
      "cell_type": "code",
      "metadata": {
        "id": "_e3mfEtz-e-f",
        "outputId": "8f0ae79c-8875-4064-da57-209aabb64228"
      },
      "source": [
        "pwd"
      ],
      "execution_count": null,
      "outputs": [
        {
          "data": {
            "text/plain": [
              "'C:\\\\Users\\\\ssabahi\\\\Desktop\\\\Plot_Generator\\\\Feb_18_2020\\\\NexGen'"
            ]
          },
          "execution_count": 40,
          "metadata": {},
          "output_type": "execute_result"
        }
      ]
    }
  ]
}
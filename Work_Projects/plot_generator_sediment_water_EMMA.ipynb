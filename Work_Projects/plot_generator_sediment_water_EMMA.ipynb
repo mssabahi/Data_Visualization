{
  "nbformat": 4,
  "nbformat_minor": 0,
  "metadata": {
    "kernelspec": {
      "display_name": "Python 3",
      "language": "python",
      "name": "python3"
    },
    "language_info": {
      "codemirror_mode": {
        "name": "ipython",
        "version": 3
      },
      "file_extension": ".py",
      "mimetype": "text/x-python",
      "name": "python",
      "nbconvert_exporter": "python",
      "pygments_lexer": "ipython3",
      "version": "3.7.3"
    },
    "colab": {
      "name": "plot_generator_sediment_water_EMMA.ipynb",
      "provenance": []
    }
  },
  "cells": [
    {
      "cell_type": "code",
      "metadata": {
        "id": "X6AibrXTBHI4"
      },
      "source": [
        "import pandas as pd\n",
        "import matplotlib.pyplot as plt\n",
        "#%matplotlib inline\n",
        "import numpy as np\n",
        "from operator import add\n",
        "import datetime\n",
        "import os\n",
        "import sys\n",
        "import matplotlib\n",
        "pd.set_option('display.max_rows', 5000)\n",
        "pd.set_option('display.max_columns', 5000)\n",
        "pd.set_option('display.width', 1000)\n",
        "import warnings\n",
        "warnings.filterwarnings('ignore')\n",
        "import matplotlib.dates as mdates\n",
        "from matplotlib.dates import DateFormatter\n",
        "import pylab"
      ],
      "execution_count": null,
      "outputs": []
    },
    {
      "cell_type": "markdown",
      "metadata": {
        "id": "rjrfMOxyBHI_"
      },
      "source": [
        "### Notes:\n",
        "###  To plot the concentrations of different parameters in water some locations were removed and some location were not shown(there were in the geometrical mean caculation)\n",
        "\n",
        "### removed locations: Lake J, Lake D, Lake I, Hodge Lake, Mid3\n",
        " \n",
        "### The locations not shown: BL A1, Mid3, \n",
        " "
      ]
    },
    {
      "cell_type": "markdown",
      "metadata": {
        "id": "vPgpeiB8BHJB"
      },
      "source": [
        "User input! Plotting mode either water, sediment or fish\n",
        "Set the timeframe which should be plotted"
      ]
    },
    {
      "cell_type": "code",
      "metadata": {
        "id": "GKLsd57oBHJC"
      },
      "source": [
        "# mode='water'\n",
        "mode='sediment'\n"
      ],
      "execution_count": null,
      "outputs": []
    },
    {
      "cell_type": "code",
      "metadata": {
        "id": "PQLasl3dBHJD",
        "outputId": "5987c146-631f-4ad7-aa59-9d35d17600ef"
      },
      "source": [
        "pwd"
      ],
      "execution_count": null,
      "outputs": [
        {
          "data": {
            "text/plain": [
              "'C:\\\\Users\\\\ssabahi\\\\Desktop\\\\Plot_Generator\\\\Feb_18_2020\\\\NexGen'"
            ]
          },
          "execution_count": 161,
          "metadata": {},
          "output_type": "execute_result"
        }
      ]
    },
    {
      "cell_type": "code",
      "metadata": {
        "id": "nXDlhefPBHJE"
      },
      "source": [
        "start_date = datetime.datetime(2017, 1, 1)\n",
        "end_date= datetime.datetime(2030, 3, 20)\n",
        "#timestep in the impact output files\n",
        "time_step = 0.08333333"
      ],
      "execution_count": null,
      "outputs": []
    },
    {
      "cell_type": "code",
      "metadata": {
        "id": "iwz7WeDyBHJF",
        "outputId": "2677016c-dfca-4e46-922a-f6ec45361437"
      },
      "source": [
        "print('Generating plots for '+str(mode)+' concentrations')"
      ],
      "execution_count": null,
      "outputs": [
        {
          "name": "stdout",
          "output_type": "stream",
          "text": [
            "Generating plots for sediment concentrations\n"
          ]
        }
      ]
    },
    {
      "cell_type": "markdown",
      "metadata": {
        "id": "RvyPRkPDBHJG"
      },
      "source": [
        "The Information Needed to Enter\n",
        "Specify which IMPACT_locations should be plotted for comparison\n",
        "Use EXACTLY the name that IMPACT uses! \n",
        "This code plots 3 IMPACT locations. For more locations we \n",
        "need to add more if statement in the plotting section and \n",
        "modift IMPACT_color_ls."
      ]
    },
    {
      "cell_type": "code",
      "metadata": {
        "id": "oXmWnhwsBHJG"
      },
      "source": [
        "if mode=='water':\n",
        "    IMPACT_locations = ['Broach Lake', 'Patterson Lake North West', 'Clearwater River upstream Mirror River']\n",
        "if mode=='sediment':\n",
        "    IMPACT_locations = ['Broach Lake', 'Patterson Lake North West']"
      ],
      "execution_count": null,
      "outputs": []
    },
    {
      "cell_type": "markdown",
      "metadata": {
        "id": "4UE_WQhrBHJH"
      },
      "source": [
        "Color lists for plotting"
      ]
    },
    {
      "cell_type": "code",
      "metadata": {
        "id": "Y3i0dTv_BHJH"
      },
      "source": [
        "IMPACT_color_ls = ['navy','coral','g']\n",
        "geom_m_EMMA_ls = ['black']\n",
        "local_inflow_mean_color_ls = ['steelblue']\n",
        "QG_color_ls = ['deepskyblue']"
      ],
      "execution_count": null,
      "outputs": []
    },
    {
      "cell_type": "code",
      "metadata": {
        "id": "2cNPTLtnBHJH"
      },
      "source": [
        "IMPACT_folder = 'NextGen_MT.ps55_Outputs'"
      ],
      "execution_count": null,
      "outputs": []
    },
    {
      "cell_type": "code",
      "metadata": {
        "id": "OXJ8k4G_BHJI"
      },
      "source": [
        "#IMPACT results should be rounded for better plotting.\n",
        "IMPACT_decimal_place = 5\n",
        "#a list of all impact outputs\n",
        "impactfile_list= os.listdir(IMPACT_folder)\n",
        "IMPACT_output_files =[]"
      ],
      "execution_count": null,
      "outputs": []
    },
    {
      "cell_type": "code",
      "metadata": {
        "id": "ncS2-kiHBHJI"
      },
      "source": [
        "\n",
        "# To select different colors go to the following website:\n",
        "     # https://www.rapidtables.com/web/css/css-color.html\n",
        "# The cols_ls_1 is used for lakes with one samplig station.\n",
        "cols_ls_1 = ['blue','green','red','saddlebrown','darkred','khaki','mediumseagreen', 'cyan', 'mediumslateblue', 'olive','saddlebrown',\n",
        "          'violet','dimgray','deepskyblue','green','black','darkslategray','darkred','teal','darkgreen', 'cyan', 'mediumslateblue', 'olive','saddlebrown',\n",
        "          'violet','dimgray','blue','green','black','darkslategray','darkred','khaki','darkgreen', 'cyan', 'mediumslateblue', 'olive','saddlebrown',\n",
        "          'violet','dimgray','blue','green','black','darkslategray','darkred','khaki','darkgreen', 'cyan', 'mediumslateblue', 'olive','saddlebrown',\n",
        "          'violet','dimgray']\n",
        "\n",
        "\n",
        "    # The cols_ls_2 is used for lakes with more than one samplig station.\n",
        "cols_ls_2 = ['blue','green','black','yellow','darkred','khaki'] \n"
      ],
      "execution_count": null,
      "outputs": []
    },
    {
      "cell_type": "markdown",
      "metadata": {
        "id": "NMf7wrpKBHJJ"
      },
      "source": [
        "Specify which EMMA_locations should be plotted and which files contain the data"
      ]
    },
    {
      "cell_type": "code",
      "metadata": {
        "scrolled": true,
        "id": "MFxUrtPMBHJJ",
        "outputId": "d5581328-4e4a-41b3-c923-0b9e065cefba"
      },
      "source": [
        "if mode=='water':\n",
        "    print('Setting '+ str(mode) +' sampling locations')\n",
        "    \n",
        "    \n",
        "    EMMA_folder_file = './EMMA/Water.xlsx'\n",
        "    \n",
        "    \n",
        "    EMMA_location_alias = ['Beet Creek','Beet Lake Area-1','Broach Lake Area-1','Broach Lake Area-2',\n",
        "                           'Clear Water River Area-1','Forrest Lake Area-1',\n",
        "                    'Forrst Lake Area-2','Jed Creek','Lake G Area-1','Lake G Area-2','Lake H Area-1','Lake H Area-2',\n",
        "                           'Lloyd Lake Input','Lloyd lake Output',\n",
        "                    'Clearwater River upstream Mirror River','Clearwater River Downstream Mirror River',\n",
        "                    'Mirror River','Naomi lake','Patterson Lake Northeast Area-1','Patterson Lake Northwest Area-1',\n",
        "                    'Patterson Lake South Area-1','Warner Rapids']\n",
        "    #Select one lake from the IMPACT excel file results for water COPCs - Used for ploting\n",
        "    \n",
        "    loc_name_plot = 'Broach Lake for Pond Conc'\n",
        "    \n",
        "    #In case EMMA locations and IMPACT locations are different - set aliases\n",
        "    EMMA_locations = ['BeetC','BeetL A1','BL A1','BL A2','CRA1','FL A1','FL A2','JedC','LG A1','LG A2','LH A1',\n",
        "                      'LH A2','LLI','LLO', 'Mid1','Mid2','MR','NL','PLNE A1','PLNW A1','PLS A1','WR']\n",
        "    #set the markers for plotting\n",
        "    EMMA_marker_ls = [\"o\",\"v\",\"^\",\"<\",\">\",\"s\",\"D\",\"d\",\n",
        "                  \"p\",\"H\",\"X\",\"o\",\"v\",\"^\",\"<\",\">\",\n",
        "                  \"s\",\"D\",\"o\",\"v\",\"^\",\"<\",\">\",\"s\",\"D\",\"d\",\n",
        "                  \"p\",\"H\",\"X\",\"o\",\"v\",\"^\",\"<\",\">\",\n",
        "                  \"s\",\"D\"]\n",
        "                     \n",
        "    \n",
        "    #Rename the COPC names based on the lab data\n",
        "    COPCs_dic = {'As':'Arsenic','COND':'Conductivity (Field)',\n",
        "                          'Ca+':'Calcium','Ca':'Calcium','Cd':'Cadmium',\n",
        "                          'Cl-':'Chloride','Cl':'Chloride','Co':'Cobalt',\n",
        "                           'V':'Vanadium','Cr':'Chromium', 'Cs':'Cesium',\n",
        "                          'Cu':'Copper', 'Fe':'Iron','NO3':'Nitrate',\n",
        "                          'Mg+':'Magnesium', 'Mg':'Magnesium','Mn':'Manganese',\n",
        "                          'Mo':'Molybdenum',\n",
        "                          'NH3':'Ammonia (as NH3)',\n",
        "                          'NO3-':'Nitrate', 'Na+':'Sodium',\n",
        "                          'Ni':'Nickel', 'Pb':'Lead', 'Pb-210':'Lead-210',\n",
        "                          'Po-210':'Polonium-210', 'Ra-226':'Radium-226',\n",
        "                          'Rn-222':'Radon-222', 'SO4':'Sulphate', \n",
        "                          'Se':'Selenium', 'Th-230':'Thorium-230',\n",
        "                          'U':'Uranium', 'U-234':'Uranium-234',\n",
        "                          'U-238':'Uranium-238', \n",
        "                          'Zn':'Zinc'}\n",
        "    \n",
        "    #set the filending of water output files in impact and add it to the list that will be plotted\n",
        "#     for file_name in impactfile_list:\n",
        "#         if ( file_name.endswith('Northern pike Conc.xls') or file_name.endswith('Whitefish Conc.xls') ) :\n",
        "#             IMPACT_output_files.append(file_name)\n",
        "\n",
        "    for file_name in impactfile_list:\n",
        "        if ( file_name.endswith('Pond Conc.xls') or file_name.endswith('Creek Conc.xls') ) :\n",
        "            IMPACT_output_files.append(file_name)\n",
        "            \n",
        "            \n",
        "            \n",
        "elif mode=='sediment':\n",
        "    print('Setting '+ str(mode) +' sampling locations')\n",
        "    \n",
        "    EMMA_locations = ['BeetL A2','BL A1','FL A1','FL A3','LG A2','LH A2','LLI','LLO',\n",
        "                           'NL','PLNE A2','PLNW A1','PLS A2']\n",
        "    \n",
        "    EMMA_folder_file = './EMMA/Sediment.xlsx'\n",
        "    #Select one lake from the IMPACT excel file results for sediment COPCs - Used for ploting\n",
        "    loc_name_plot = 'Broach Lake for Pond Sediment Conc'\n",
        "    #In case EMMA locations and IMPACT locations are different - set aliases\n",
        "     \n",
        "    EMMA_location_alias = ['Beet Lake Area-2','Broach Lake Area-1','Forrest Lake Area-1',\n",
        "                    'Forrst Lake Area-3','Lake G Area-2','Lake H Area-2','Lloyd Lake Input','Lloyd lake Output',\n",
        "                    'Naomi lake','Patterson Lake Northeast Area-2','Patterson Lake Northwest Area-1',\n",
        "                    'Patterson Lake South Area-2']\n",
        "    \n",
        "    #set the markers for plotting\n",
        "    EMMA_marker_ls = [\"o\",\"v\",\"^\",\"<\",\">\",\"s\",\"D\",\"d\",\n",
        "                  \"p\",\"H\",\"X\",\"o\",\"v\",\"^\",\"<\",\">\",\n",
        "                  \"s\",\"D\",\"d\",\"p\",\"H\",\"X\",\"o\",\"v\",\n",
        "                  \"^\",\"<\",\">\",\"s\",\"D\",\"d\",\"p\",\"H\",\"X\",\"o\",\"v\"]\n",
        "    #Rename the COPC names based on the lab data\n",
        "    COPCs_dic = {'As':'Arsenic','COND':'Conductivity (Field)',\n",
        "                          'Ca+':'Calcium','Ca':'Calcium','Cd':'Cadmium',\n",
        "                          'Cl-':'Chloride','Cl':'Chloride','Co':'Cobalt',\n",
        "                           'V':'Vanadium','Cr':'Chromium', 'Cs':'Cesium',\n",
        "                          'Cu':'Copper', 'Fe':'Iron','NO3':'Nitrate',\n",
        "                          'Mg+':'Magnesium', 'Mg':'Magnesium','Mn':'Manganese',\n",
        "                          'Mo':'Molybdenum',\n",
        "                          'NH3':'Ammonia (as NH3)',\n",
        "                          'NO3-':'Nitrate', 'Na+':'Sodium',\n",
        "                          'Ni':'Nickel', 'Pb':'Lead', 'Pb-210':'Lead-210',\n",
        "                          'Po-210':'Polonium-210', 'Ra-226':'Radium-226',\n",
        "                          'Rn-222':'Radon-222', 'SO4':'Sulphate', \n",
        "                          'Se':'Selenium', 'Th-230':'Thorium-230',\n",
        "                          'U':'Uranium', 'U-234':'Uranium-234',\n",
        "                          'U-238':'Uranium-238', \n",
        "                          'Zn':'Zinc'}\n",
        "    #set the filending of sediment output files in impact and add it to the list that will be plotted\n",
        "    for file_name in impactfile_list:\n",
        "        if ( file_name.endswith('Pond Sediment Conc.xls') ) :\n",
        "            IMPACT_output_files.append(file_name)\n",
        "else:\n",
        "    print('Enter an analysis mode at the top!')\n",
        "    sys.exit()   \n",
        "    "
      ],
      "execution_count": null,
      "outputs": [
        {
          "name": "stdout",
          "output_type": "stream",
          "text": [
            "Setting sediment sampling locations\n"
          ]
        }
      ]
    },
    {
      "cell_type": "code",
      "metadata": {
        "id": "U31IeyVcBHJN",
        "outputId": "8a9145a6-92ce-44f7-c0dd-ed4c96dfbd4a"
      },
      "source": [
        "IMPACT_output_files"
      ],
      "execution_count": null,
      "outputs": [
        {
          "data": {
            "text/plain": [
              "['Beet Lake for Pond Sediment Conc.xls',\n",
              " 'Broach Lake for Pond Sediment Conc.xls',\n",
              " 'Forrest Lake north basin for Pond Sediment Conc.xls',\n",
              " 'Forrest Lake south basin for Pond Sediment Conc.xls',\n",
              " 'Lake G for Pond Sediment Conc.xls',\n",
              " 'Lake H for Pond Sediment Conc.xls',\n",
              " 'Lloyd Lake Inlet for Pond Sediment Conc.xls',\n",
              " 'Naomi Lake for Pond Sediment Conc.xls',\n",
              " 'Patterson Lake North West for Pond Sediment Conc.xls',\n",
              " 'Patterson Lake North-East for Pond Sediment Conc.xls',\n",
              " 'Patterson Lake South for Pond Sediment Conc.xls']"
            ]
          },
          "execution_count": 170,
          "metadata": {},
          "output_type": "execute_result"
        }
      ]
    },
    {
      "cell_type": "code",
      "metadata": {
        "id": "og7AjDbBBHJO"
      },
      "source": [
        "EMMA_file_sheet_name = 'FigureTable'\n",
        "EMMA_file_sheet_name_stat = 'Stats_a_Entire Query Time' "
      ],
      "execution_count": null,
      "outputs": []
    },
    {
      "cell_type": "code",
      "metadata": {
        "id": "5kkeh62PBHJO"
      },
      "source": [
        "\n",
        "# # this dataframe is used to plot geometric means of COPCs\n",
        "\n",
        "local_inflow_folder_file = './Local_Inflow/Local_Inflow.xlsx'\n",
        "local_inflow_file_sheet_name = 'WaterBalance_output'"
      ],
      "execution_count": null,
      "outputs": []
    },
    {
      "cell_type": "markdown",
      "metadata": {
        "id": "9zuuKlGzBHJO"
      },
      "source": [
        "specify guidelines file"
      ]
    },
    {
      "cell_type": "code",
      "metadata": {
        "id": "4bEaA4wXBHJP"
      },
      "source": [
        "QG_folder_file = './WQG/WaterQualityGuidelines_revised.xlsx'\n",
        "if mode=='water':\n",
        "    QG_file_sheet_name = 'WQG'\n",
        "elif mode=='sediment':\n",
        "    QG_file_sheet_name = 'SQG'\n",
        "else:\n",
        "    print('Enter an analysis mode at the top!')"
      ],
      "execution_count": null,
      "outputs": []
    },
    {
      "cell_type": "markdown",
      "metadata": {
        "id": "sQnjAfCqBHJP"
      },
      "source": [
        "Output save location"
      ]
    },
    {
      "cell_type": "code",
      "metadata": {
        "id": "9j4q3JX0BHJP"
      },
      "source": [
        "if mode=='water':\n",
        "    \n",
        "    IMPACT_water_plots_folder = './plots/Water_Impact_Plots_'+str(mode)\n",
        "    IMPACT_EMMA_Water_Plots_folder = './plots/Water_IMAPCT_EMMA_Plots_'+str(mode)\n",
        "    os.makedirs(IMPACT_water_plots_folder,exist_ok=True)\n",
        "    os.makedirs(IMPACT_EMMA_Water_Plots_folder,exist_ok=True)\n",
        "\n",
        "if mode=='sediment':\n",
        "    \n",
        "    IMPACT_sediment_plots_folder = './plots/Sediment_Impact_Plots_'+str(mode)\n",
        "    IMPACT_EMMA_Sediment_Plots_folder = './plots/Sediment_IMAPCT_EMMA_Plots_'+str(mode)\n",
        "    os.makedirs(IMPACT_sediment_plots_folder,exist_ok=True)\n",
        "    os.makedirs(IMPACT_EMMA_Sediment_Plots_folder,exist_ok=True)\n"
      ],
      "execution_count": null,
      "outputs": []
    },
    {
      "cell_type": "markdown",
      "metadata": {
        "id": "BhD3u6UvBHJP"
      },
      "source": [
        "Import the raw data\n",
        "Datafrmae 1- EMMA\n",
        "Used to plot the sampled data-Scatter plot\n",
        "Here we need to enter the directory where the EMMA file is located and \n",
        "then mention the name of the excel file and respective sheets"
      ]
    },
    {
      "cell_type": "code",
      "metadata": {
        "id": "zAfnRtziBHJQ",
        "outputId": "8b77871e-bc19-4a4b-e080-7211551338f0"
      },
      "source": [
        "\n",
        "#TODO: the skipfooter business is super risky, cutting off elements potentially\n",
        "EMMA_df = pd.read_excel(EMMA_folder_file, sheet_name=EMMA_file_sheet_name)\n",
        "EMMA_Stat_df = pd.read_excel(EMMA_folder_file, sheet_name=EMMA_file_sheet_name_stat,skiprows=3, skipfooter = 4)\n",
        "EMMA_Stat_df.drop(['Unnamed: 0'], axis=1, inplace=True)\n",
        "EMMA_df_header1 = list(EMMA_df.iloc[2,:5])\n",
        "EMMA_df_header2 = list( map(add, list(map(str,EMMA_df.iloc[0,:])),  list(map(str,EMMA_df.iloc[1,:])) ))\n",
        "EMMA_df_header2 = EMMA_df_header2[5:]\n",
        "EMMA_df_header = (EMMA_df_header1+EMMA_df_header2)\n",
        "#remove redundant rows\n",
        "EMMA_df.drop(EMMA_df.index[[0,1,2]], inplace=True)\n",
        "EMMA_df.columns = EMMA_df_header\n",
        "print('The EMMA dataset has '+str(len(EMMA_locations))+ ' locations for the '+str(mode)+' sampling data')\n",
        "\n",
        "\n",
        "EMMA_Stat_col_ls = ['Minimum', 'Percentile_5th', 'Percentile_50th', 'Percentile_95th', 'Maximum', 'Arithmetic_Mean', 'Geometric_Mean']\n",
        "copcs_EMMA = EMMA_df.Parameter_ID.unique()\n",
        "\n",
        "EMMA_col_TF_ls = list( (EMMA_df.columns[EMMA_df.columns.str.endswith('True')]) | (EMMA_df.columns[EMMA_df.columns.str.endswith('False')]) )\n"
      ],
      "execution_count": null,
      "outputs": [
        {
          "name": "stdout",
          "output_type": "stream",
          "text": [
            "The EMMA dataset has 12 locations for the sediment sampling data\n"
          ]
        }
      ]
    },
    {
      "cell_type": "code",
      "metadata": {
        "id": "QcgQtR8KBHJQ",
        "outputId": "da52af1d-e7de-4c91-b066-5ac07ee7e059"
      },
      "source": [
        "EMMA_folder_file"
      ],
      "execution_count": null,
      "outputs": [
        {
          "data": {
            "text/plain": [
              "'./EMMA/Sediment.xlsx'"
            ]
          },
          "execution_count": 176,
          "metadata": {},
          "output_type": "execute_result"
        }
      ]
    },
    {
      "cell_type": "code",
      "metadata": {
        "id": "eq9YXTCuBHJQ"
      },
      "source": [
        "if mode=='water':\n",
        "    #unit_micro = list(EMMA_df[EMMA_df['Units']=='µg/L']['Parameter_ID'].unique())\n",
        "    #Change the microgram/l to miligram/l to be consistent with other dataframe data\n",
        "    EMMA_df.loc[EMMA_df['Units']=='µg/L', EMMA_col_TF_ls] = EMMA_df.loc[EMMA_df['Units']=='µg/L', EMMA_col_TF_ls] * 0.001\n",
        "    EMMA_Stat_df.loc[EMMA_Stat_df['Units']=='µg/L', EMMA_Stat_col_ls] = EMMA_Stat_df.loc[EMMA_Stat_df['Units']=='µg/L', EMMA_Stat_col_ls] * 0.001\n",
        "    #TODO: maybe also rename the units?\n",
        "elif mode=='sediment':\n",
        "    #in sediment data everything is given in microg/mg which is equivalent to the mg/kg of impact\n",
        "    EMMA_df.loc[EMMA_df['Units']=='Bq/g', EMMA_col_TF_ls] = EMMA_df.loc[EMMA_df['Units']=='Bq/g', EMMA_col_TF_ls] * 1000\n",
        "    EMMA_Stat_df.loc[EMMA_Stat_df['Units']=='Bq/g', EMMA_Stat_col_ls] = EMMA_Stat_df.loc[EMMA_Stat_df['Units']=='Bq/g', EMMA_Stat_col_ls] * 1000\n",
        "    \n",
        "else:\n",
        "    print('Enter an analysis mode at the top!')"
      ],
      "execution_count": null,
      "outputs": []
    },
    {
      "cell_type": "markdown",
      "metadata": {
        "id": "NxXqmix5BHJQ"
      },
      "source": [
        "Dataframe 2-Local Inflow File\n",
        "Used to plot COPCs' Geometric mean followed by the sediment-water interaction"
      ]
    },
    {
      "cell_type": "code",
      "metadata": {
        "id": "it14XBh5BHJQ",
        "outputId": "bb661a21-ed2a-4bd6-c952-72fef72b63fc"
      },
      "source": [
        "IMPACT_locations"
      ],
      "execution_count": null,
      "outputs": [
        {
          "data": {
            "text/plain": [
              "['Broach Lake', 'Patterson Lake North West']"
            ]
          },
          "execution_count": 178,
          "metadata": {},
          "output_type": "execute_result"
        }
      ]
    },
    {
      "cell_type": "code",
      "metadata": {
        "id": "j-0X9xkfBHJR"
      },
      "source": [
        "for file in IMPACT_output_files:\n",
        "    #print(file)\n",
        "    loc_name = file.split('for')[0]\n",
        "    loc_name = loc_name.strip() "
      ],
      "execution_count": null,
      "outputs": []
    },
    {
      "cell_type": "code",
      "metadata": {
        "id": "-ysbS0R1BHJR",
        "outputId": "9977ba59-8c4a-415d-e0fb-7593c2e956ed"
      },
      "source": [
        "local_inflow_df = pd.read_excel(local_inflow_folder_file, sheet_name=local_inflow_file_sheet_name, skiprows=[0])\n",
        "local_inflow_df.set_index('Contaminants', inplace=True)\n",
        "\n",
        "#Rename the contaminant names based on the EMMA fromat\n",
        "# local_inflow_df.rename(columns = COPCs_dic,inplace=True)\n",
        "\n",
        "#Creating a dictionary of selected IMPACT_locations defined above with \n",
        "#respective concentrations and time and rename the contaminants based on the \n",
        "#EMMA format     \n",
        "\n",
        "IMPACT_df = {}\n",
        "\n",
        "for file in IMPACT_output_files:\n",
        "    #print(file)\n",
        "    loc_name = file.split('for')[0]\n",
        "    loc_name = loc_name.strip() # To remove unncessary white space\n",
        "    for l in IMPACT_locations:\n",
        "        if l == loc_name:\n",
        "            print('Location ' + str(loc_name) + ' was found.')\n",
        "            IMPACT_df_temp = pd.read_csv(IMPACT_folder + '/' + file, sep='\\t', skiprows=[7], header=6)\n",
        "            IMPACT_df_temp = IMPACT_df_temp.drop(IMPACT_df_temp.columns[IMPACT_df_temp.columns.str.startswith('Un')],1)\n",
        "            IMPACT_df_temp['Timedelta'] = pd.to_timedelta(IMPACT_df_temp['Time'], unit='Y')\n",
        "            IMPACT_df_temp['Date_Time'] = start_date + IMPACT_df_temp['Timedelta']\n",
        "                \n",
        "            IMPACT_df_temp.drop(columns=['Timedelta'], inplace=True) # remove this to make the next steps easier\n",
        "            \n",
        "            IMPACT_df_temp = IMPACT_df_temp[IMPACT_df_temp['Date_Time']<end_date]##########\n",
        "    \n",
        "            IMPACT_df[l] = IMPACT_df_temp\n",
        "                \n",
        "            IMPACT_df[l].rename(columns = COPCs_dic,inplace=True)            \n"
      ],
      "execution_count": null,
      "outputs": [
        {
          "name": "stdout",
          "output_type": "stream",
          "text": [
            "Location Broach Lake was found.\n",
            "Location Patterson Lake North West was found.\n"
          ]
        }
      ]
    },
    {
      "cell_type": "code",
      "metadata": {
        "id": "sm3YhwudBHJR",
        "outputId": "614579f9-d6b0-42c2-ca11-67fe52e79b3d"
      },
      "source": [
        "local_inflow_df"
      ],
      "execution_count": null,
      "outputs": [
        {
          "data": {
            "text/html": [
              "<div>\n",
              "<style scoped>\n",
              "    .dataframe tbody tr th:only-of-type {\n",
              "        vertical-align: middle;\n",
              "    }\n",
              "\n",
              "    .dataframe tbody tr th {\n",
              "        vertical-align: top;\n",
              "    }\n",
              "\n",
              "    .dataframe thead th {\n",
              "        text-align: right;\n",
              "    }\n",
              "</style>\n",
              "<table border=\"1\" class=\"dataframe\">\n",
              "  <thead>\n",
              "    <tr style=\"text-align: right;\">\n",
              "      <th></th>\n",
              "      <th>As</th>\n",
              "      <th>COND</th>\n",
              "      <th>Ca</th>\n",
              "      <th>Cd</th>\n",
              "      <th>Cl-</th>\n",
              "      <th>Co</th>\n",
              "      <th>Cr</th>\n",
              "      <th>Cs</th>\n",
              "      <th>Cu</th>\n",
              "      <th>Fe</th>\n",
              "      <th>Mg</th>\n",
              "      <th>Mn</th>\n",
              "      <th>Mo</th>\n",
              "      <th>Nitrate (as N)</th>\n",
              "      <th>Ammonia (as N)</th>\n",
              "      <th>NH3</th>\n",
              "      <th>NO3</th>\n",
              "      <th>Na+</th>\n",
              "      <th>Ni</th>\n",
              "      <th>Pb</th>\n",
              "      <th>Pb-210</th>\n",
              "      <th>Po-210</th>\n",
              "      <th>Ra-226</th>\n",
              "      <th>Rn-222</th>\n",
              "      <th>SO4</th>\n",
              "      <th>Se</th>\n",
              "      <th>Th-230</th>\n",
              "      <th>U</th>\n",
              "      <th>U-234</th>\n",
              "      <th>U-238</th>\n",
              "      <th>V</th>\n",
              "      <th>Zn</th>\n",
              "    </tr>\n",
              "    <tr>\n",
              "      <th>Contaminants</th>\n",
              "      <th></th>\n",
              "      <th></th>\n",
              "      <th></th>\n",
              "      <th></th>\n",
              "      <th></th>\n",
              "      <th></th>\n",
              "      <th></th>\n",
              "      <th></th>\n",
              "      <th></th>\n",
              "      <th></th>\n",
              "      <th></th>\n",
              "      <th></th>\n",
              "      <th></th>\n",
              "      <th></th>\n",
              "      <th></th>\n",
              "      <th></th>\n",
              "      <th></th>\n",
              "      <th></th>\n",
              "      <th></th>\n",
              "      <th></th>\n",
              "      <th></th>\n",
              "      <th></th>\n",
              "      <th></th>\n",
              "      <th></th>\n",
              "      <th></th>\n",
              "      <th></th>\n",
              "      <th></th>\n",
              "      <th></th>\n",
              "      <th></th>\n",
              "      <th></th>\n",
              "      <th></th>\n",
              "      <th></th>\n",
              "    </tr>\n",
              "  </thead>\n",
              "  <tbody>\n",
              "    <tr>\n",
              "      <th>Sediment_input</th>\n",
              "      <td>10.478686</td>\n",
              "      <td>0.00000</td>\n",
              "      <td>23.715779</td>\n",
              "      <td>0.257873</td>\n",
              "      <td>3.707376</td>\n",
              "      <td>1.311782</td>\n",
              "      <td>5.485779</td>\n",
              "      <td>0.932560</td>\n",
              "      <td>2.352616</td>\n",
              "      <td>334.798058</td>\n",
              "      <td>8.966513</td>\n",
              "      <td>1257.059971</td>\n",
              "      <td>0.580901</td>\n",
              "      <td>0.112094</td>\n",
              "      <td>0.121854</td>\n",
              "      <td>0.000207</td>\n",
              "      <td>0.310151</td>\n",
              "      <td>10.799581</td>\n",
              "      <td>2.832545</td>\n",
              "      <td>3.155555</td>\n",
              "      <td>194.479000</td>\n",
              "      <td>197.843436</td>\n",
              "      <td>64.703058</td>\n",
              "      <td>0</td>\n",
              "      <td>9.405923</td>\n",
              "      <td>0.308154</td>\n",
              "      <td>20.809830</td>\n",
              "      <td>0.516141</td>\n",
              "      <td>6.377439</td>\n",
              "      <td>6.377439</td>\n",
              "      <td>0.337880</td>\n",
              "      <td>12.958253</td>\n",
              "    </tr>\n",
              "    <tr>\n",
              "      <th>Water_meas</th>\n",
              "      <td>0.000130</td>\n",
              "      <td>23.26662</td>\n",
              "      <td>2.717433</td>\n",
              "      <td>0.000010</td>\n",
              "      <td>0.424804</td>\n",
              "      <td>0.000100</td>\n",
              "      <td>0.000500</td>\n",
              "      <td>0.000100</td>\n",
              "      <td>0.000213</td>\n",
              "      <td>0.067573</td>\n",
              "      <td>1.027413</td>\n",
              "      <td>0.012184</td>\n",
              "      <td>0.000102</td>\n",
              "      <td>0.012844</td>\n",
              "      <td>0.013962</td>\n",
              "      <td>0.000024</td>\n",
              "      <td>0.035538</td>\n",
              "      <td>1.237452</td>\n",
              "      <td>0.000104</td>\n",
              "      <td>0.000102</td>\n",
              "      <td>0.020238</td>\n",
              "      <td>0.005153</td>\n",
              "      <td>0.005537</td>\n",
              "      <td>0</td>\n",
              "      <td>1.077762</td>\n",
              "      <td>0.000100</td>\n",
              "      <td>0.010000</td>\n",
              "      <td>0.000101</td>\n",
              "      <td>6.377439</td>\n",
              "      <td>6.377439</td>\n",
              "      <td>0.000113</td>\n",
              "      <td>0.000890</td>\n",
              "    </tr>\n",
              "    <tr>\n",
              "      <th>Water_calc</th>\n",
              "      <td>0.000130</td>\n",
              "      <td>0.00000</td>\n",
              "      <td>2.717433</td>\n",
              "      <td>0.000018</td>\n",
              "      <td>0.424804</td>\n",
              "      <td>0.000526</td>\n",
              "      <td>0.059282</td>\n",
              "      <td>0.000100</td>\n",
              "      <td>0.000788</td>\n",
              "      <td>0.067573</td>\n",
              "      <td>1.027413</td>\n",
              "      <td>0.012184</td>\n",
              "      <td>0.000184</td>\n",
              "      <td>0.012844</td>\n",
              "      <td>0.013962</td>\n",
              "      <td>0.000024</td>\n",
              "      <td>0.035538</td>\n",
              "      <td>1.237452</td>\n",
              "      <td>0.000326</td>\n",
              "      <td>0.000033</td>\n",
              "      <td>0.002743</td>\n",
              "      <td>0.002790</td>\n",
              "      <td>0.005538</td>\n",
              "      <td>0</td>\n",
              "      <td>1.077762</td>\n",
              "      <td>0.000016</td>\n",
              "      <td>0.009067</td>\n",
              "      <td>0.000027</td>\n",
              "      <td>0.000332</td>\n",
              "      <td>0.000332</td>\n",
              "      <td>0.000113</td>\n",
              "      <td>0.000890</td>\n",
              "    </tr>\n",
              "    <tr>\n",
              "      <th>Sediment_meas</th>\n",
              "      <td>3.195999</td>\n",
              "      <td>0.00000</td>\n",
              "      <td>1629.436000</td>\n",
              "      <td>0.257873</td>\n",
              "      <td>0.000000</td>\n",
              "      <td>1.311782</td>\n",
              "      <td>5.485779</td>\n",
              "      <td>0.176139</td>\n",
              "      <td>2.352616</td>\n",
              "      <td>16040.400000</td>\n",
              "      <td>536.727200</td>\n",
              "      <td>402.602800</td>\n",
              "      <td>0.580901</td>\n",
              "      <td>0.000000</td>\n",
              "      <td>0.000000</td>\n",
              "      <td>0.000000</td>\n",
              "      <td>0.000000</td>\n",
              "      <td>104.945000</td>\n",
              "      <td>2.832545</td>\n",
              "      <td>3.155555</td>\n",
              "      <td>194.479000</td>\n",
              "      <td>157.045100</td>\n",
              "      <td>27.608530</td>\n",
              "      <td>0</td>\n",
              "      <td>0.000000</td>\n",
              "      <td>0.308154</td>\n",
              "      <td>20.809830</td>\n",
              "      <td>0.516141</td>\n",
              "      <td>NaN</td>\n",
              "      <td>NaN</td>\n",
              "      <td>8.091691</td>\n",
              "      <td>13.990960</td>\n",
              "    </tr>\n",
              "  </tbody>\n",
              "</table>\n",
              "</div>"
            ],
            "text/plain": [
              "                       As      COND           Ca        Cd       Cl-        Co        Cr        Cs        Cu            Fe          Mg           Mn        Mo  Nitrate (as N)  Ammonia (as N)       NH3       NO3         Na+        Ni        Pb      Pb-210      Po-210     Ra-226  Rn-222       SO4        Se     Th-230         U     U-234     U-238         V         Zn\n",
              "Contaminants                                                                                                                                                                                                                                                                                                                                                                  \n",
              "Sediment_input  10.478686   0.00000    23.715779  0.257873  3.707376  1.311782  5.485779  0.932560  2.352616    334.798058    8.966513  1257.059971  0.580901        0.112094        0.121854  0.000207  0.310151   10.799581  2.832545  3.155555  194.479000  197.843436  64.703058       0  9.405923  0.308154  20.809830  0.516141  6.377439  6.377439  0.337880  12.958253\n",
              "Water_meas       0.000130  23.26662     2.717433  0.000010  0.424804  0.000100  0.000500  0.000100  0.000213      0.067573    1.027413     0.012184  0.000102        0.012844        0.013962  0.000024  0.035538    1.237452  0.000104  0.000102    0.020238    0.005153   0.005537       0  1.077762  0.000100   0.010000  0.000101  6.377439  6.377439  0.000113   0.000890\n",
              "Water_calc       0.000130   0.00000     2.717433  0.000018  0.424804  0.000526  0.059282  0.000100  0.000788      0.067573    1.027413     0.012184  0.000184        0.012844        0.013962  0.000024  0.035538    1.237452  0.000326  0.000033    0.002743    0.002790   0.005538       0  1.077762  0.000016   0.009067  0.000027  0.000332  0.000332  0.000113   0.000890\n",
              "Sediment_meas    3.195999   0.00000  1629.436000  0.257873  0.000000  1.311782  5.485779  0.176139  2.352616  16040.400000  536.727200   402.602800  0.580901        0.000000        0.000000  0.000000  0.000000  104.945000  2.832545  3.155555  194.479000  157.045100  27.608530       0  0.000000  0.308154  20.809830  0.516141       NaN       NaN  8.091691  13.990960"
            ]
          },
          "execution_count": 181,
          "metadata": {},
          "output_type": "execute_result"
        }
      ]
    },
    {
      "cell_type": "code",
      "metadata": {
        "id": "gHLzxs9HBHJS"
      },
      "source": [
        "local_inflow_df.rename(columns = COPCs_dic,inplace=True)"
      ],
      "execution_count": null,
      "outputs": []
    },
    {
      "cell_type": "code",
      "metadata": {
        "id": "Apf6iQyMBHJS",
        "outputId": "2936dd86-b598-4c02-bf79-ee4491e335f8"
      },
      "source": [
        "COPCs_dic"
      ],
      "execution_count": null,
      "outputs": [
        {
          "data": {
            "text/plain": [
              "{'As': 'Arsenic',\n",
              " 'COND': 'Conductivity (Field)',\n",
              " 'Ca+': 'Calcium',\n",
              " 'Ca': 'Calcium',\n",
              " 'Cd': 'Cadmium',\n",
              " 'Cl-': 'Chloride',\n",
              " 'Cl': 'Chloride',\n",
              " 'Co': 'Cobalt',\n",
              " 'V': 'Vanadium',\n",
              " 'Cr': 'Chromium',\n",
              " 'Cs': 'Cesium',\n",
              " 'Cu': 'Copper',\n",
              " 'Fe': 'Iron',\n",
              " 'NO3': 'Nitrate',\n",
              " 'Mg+': 'Magnesium',\n",
              " 'Mg': 'Magnesium',\n",
              " 'Mn': 'Manganese',\n",
              " 'Mo': 'Molybdenum',\n",
              " 'NH3': 'Ammonia (as NH3)',\n",
              " 'NO3-': 'Nitrate',\n",
              " 'Na+': 'Sodium',\n",
              " 'Ni': 'Nickel',\n",
              " 'Pb': 'Lead',\n",
              " 'Pb-210': 'Lead-210',\n",
              " 'Po-210': 'Polonium-210',\n",
              " 'Ra-226': 'Radium-226',\n",
              " 'Rn-222': 'Radon-222',\n",
              " 'SO4': 'Sulphate',\n",
              " 'Se': 'Selenium',\n",
              " 'Th-230': 'Thorium-230',\n",
              " 'U': 'Uranium',\n",
              " 'U-234': 'Uranium-234',\n",
              " 'U-238': 'Uranium-238',\n",
              " 'Zn': 'Zinc'}"
            ]
          },
          "execution_count": 183,
          "metadata": {},
          "output_type": "execute_result"
        }
      ]
    },
    {
      "cell_type": "code",
      "metadata": {
        "id": "Vfcv96frBHJT",
        "outputId": "1cc12183-bd17-498d-e922-abd5c78a1d83"
      },
      "source": [
        "pwd"
      ],
      "execution_count": null,
      "outputs": [
        {
          "data": {
            "text/plain": [
              "'C:\\\\Users\\\\ssabahi\\\\Desktop\\\\Plot_Generator\\\\Feb_18_2020\\\\NexGen'"
            ]
          },
          "execution_count": 184,
          "metadata": {},
          "output_type": "execute_result"
        }
      ]
    },
    {
      "cell_type": "markdown",
      "metadata": {
        "id": "i4_gSJg-BHJT"
      },
      "source": [
        "Read the file that will contain the units and format it to drop all the \n",
        "unnecessary stuff:\n",
        "Remove the first 2 unnecessary columns from the first elements and one element \n",
        "from the lastvand add an another element called time to the end of the list\n",
        "Becareful: To plot sediment outpots unit_ls = unit_ls[1:-1] because in \n",
        "sediment we dont have outflow (second elements)"
      ]
    },
    {
      "cell_type": "code",
      "metadata": {
        "id": "5gqIgC8_BHJT"
      },
      "source": [
        "if mode=='water':\n",
        "    startcolumn=2\n",
        "elif mode=='sediment':\n",
        "    startcolumn=1\n",
        "else:\n",
        "    print('Enter an analysis mode at the top!')"
      ],
      "execution_count": null,
      "outputs": []
    },
    {
      "cell_type": "code",
      "metadata": {
        "id": "lfCCHit9BHJT"
      },
      "source": [
        "unit_ls_path = './'+ IMPACT_folder +'/'+ loc_name_plot+ '.xls'\n",
        "unit_ls = list(pd.read_csv(unit_ls_path, sep='\\t',skiprows=6).iloc[0,:])\n",
        "unit_ls = unit_ls[startcolumn:-1]\n",
        "\n",
        "unit_ls.append('Year')"
      ],
      "execution_count": null,
      "outputs": []
    },
    {
      "cell_type": "markdown",
      "metadata": {
        "id": "b1weDLvUBHJT"
      },
      "source": [
        "To check that we have the same COPCs for all dataframes.\n",
        "The dataframe COPCs will be compared with COPCs in local inflow\n",
        "If they are not of equal length some COPCs will have to be added."
      ]
    },
    {
      "cell_type": "code",
      "metadata": {
        "id": "GJo8eZaNBHJU",
        "outputId": "4aa7b7e8-fe95-4e9c-e979-ccff0525fe5a"
      },
      "source": [
        "copcs_EMMA"
      ],
      "execution_count": null,
      "outputs": [
        {
          "data": {
            "text/plain": [
              "array(['Arsenic', 'Cadmium', 'Calcium', 'Cobalt', 'Copper', 'Lead',\n",
              "       'Lead-210', 'Loss on Ignition', 'Magnesium', 'Manganese',\n",
              "       'Molybdenum', 'Nickel', 'Polonium-210', 'Radium-226', 'Selenium',\n",
              "       'Sodium', 'Thorium-230', 'Uranium', 'Zinc'], dtype=object)"
            ]
          },
          "execution_count": 187,
          "metadata": {},
          "output_type": "execute_result"
        }
      ]
    },
    {
      "cell_type": "code",
      "metadata": {
        "id": "jhWssxPABHJU",
        "outputId": "4f87c025-7a94-4bc4-a7b3-8066e43b276a"
      },
      "source": [
        "copcs_local_inflow = local_inflow_df.columns\n",
        "\n",
        "if len(copcs_local_inflow)==len(copcs_EMMA):\n",
        "    print(f'The size of copcs_EMMA is: {len(copcs_EMMA)}, equal to the size of copcs_local_inflow: {len(copcs_local_inflow)}' )\n",
        "else:\n",
        "    print('The copc arrays are not of equal length, we need to add the missing ones.')\n",
        "\n",
        "copcs_missing =  list(set(copcs_local_inflow)-set(copcs_EMMA))\n",
        "print('The missing copcs are '+ str(copcs_missing))\n",
        "\n",
        "for m in copcs_missing:\n",
        "    #TODO:correct units maybe?\n",
        "    if mode=='water':\n",
        "        toAdd= ['surface water_' + str(m).lower() + '_mg/l', str(m), 'mg/L', start_date, end_date]\n",
        "    elif mode=='sediment':\n",
        "        toAdd= ['sediment_' + str(m).lower() + '_mg/kg', str(m), 'mg/kg', start_date,end_date]\n",
        "    else:\n",
        "        print('Enter an analysis mode at the top!')\n",
        "    \n",
        "    EMMA_df = pd.concat([EMMA_df, pd.DataFrame([toAdd + ([np.nan] * (EMMA_df.shape[1]-len(toAdd)))], columns=EMMA_df.columns)], ignore_index=True)\n",
        "    EMMA_Stat_df = pd.concat([EMMA_Stat_df, pd.DataFrame([toAdd + ([np.nan] * (EMMA_Stat_df.shape[1]-len(toAdd)))], columns=EMMA_Stat_df.columns)], ignore_index=True)"
      ],
      "execution_count": null,
      "outputs": [
        {
          "name": "stdout",
          "output_type": "stream",
          "text": [
            "The copc arrays are not of equal length, we need to add the missing ones.\n",
            "The missing copcs are ['Vanadium', 'Chromium', 'Cesium', 'Radon-222', 'Ammonia (as N)', 'Chloride', 'Nitrate (as N)', 'Iron', 'Uranium-234', 'Sulphate', 'Nitrate', 'Conductivity (Field)', 'Ammonia (as NH3)', 'Uranium-238']\n"
          ]
        }
      ]
    },
    {
      "cell_type": "markdown",
      "metadata": {
        "id": "Iz9aOFiXBHJU"
      },
      "source": [
        "# Plotting the impact Dataframe"
      ]
    },
    {
      "cell_type": "code",
      "metadata": {
        "id": "iNOGT0eHBHJV",
        "outputId": "43005434-bd96-435a-c093-2895cfa10131"
      },
      "source": [
        "IMPACT_df.keys()"
      ],
      "execution_count": null,
      "outputs": [
        {
          "data": {
            "text/plain": [
              "dict_keys(['Broach Lake', 'Patterson Lake North West'])"
            ]
          },
          "execution_count": 189,
          "metadata": {},
          "output_type": "execute_result"
        }
      ]
    },
    {
      "cell_type": "code",
      "metadata": {
        "id": "eayBIIxHBHJV"
      },
      "source": [
        "#format input dates\n",
        "#TODO: this needs to change to the dates that we enter at the top\n",
        "dates_IMPACT = matplotlib.dates.date2num(IMPACT_df['Broach Lake']['Date_Time'])\n",
        "#round IMPACT data:\n",
        "for i in (IMPACT_df.keys()):\n",
        "    IMPACT_df[i] = IMPACT_df[i].round(IMPACT_decimal_place)"
      ],
      "execution_count": null,
      "outputs": []
    },
    {
      "cell_type": "code",
      "metadata": {
        "id": "p768IKqXBHJV",
        "outputId": "a899cc90-27fc-4dad-c660-b37b2495a9f5"
      },
      "source": [
        "dates_IMPACT"
      ],
      "execution_count": null,
      "outputs": [
        {
          "data": {
            "text/plain": [
              "array([736330.     , 736366.52425, 736403.0485 , 736439.57275,\n",
              "       736476.097  , 736512.62125, 736549.1455 , 736585.66975,\n",
              "       736622.194  , 736658.71825, 736695.2425 , 736731.76675,\n",
              "       736768.291  , 736804.81525, 736841.3395 , 736877.86375,\n",
              "       736914.388  , 736950.91225, 736987.4365 , 737023.96075,\n",
              "       737060.485  , 737097.00925, 737133.5335 , 737170.05775,\n",
              "       737206.582  , 737243.10625, 737279.6305 , 737316.15475,\n",
              "       737352.679  , 737389.20325, 737425.7275 , 737462.25175,\n",
              "       737498.776  , 737535.30025, 737571.8245 , 737608.34875,\n",
              "       737644.873  , 737681.39725, 737717.9215 , 737754.44575,\n",
              "       737790.97   , 737827.49425, 737864.0185 , 737900.54275,\n",
              "       737937.067  , 737973.59125, 738010.1155 , 738046.63975,\n",
              "       738083.164  , 738119.68825, 738156.2125 , 738192.73675,\n",
              "       738229.261  , 738265.78525, 738302.3095 , 738338.83375,\n",
              "       738375.358  , 738411.88225, 738448.4065 , 738484.93075,\n",
              "       738521.455  , 738557.97925, 738594.5035 , 738631.02775,\n",
              "       738667.552  , 738704.07625, 738740.6005 , 738777.12475,\n",
              "       738813.649  , 738850.17325, 738886.6975 , 738923.22175,\n",
              "       738959.746  , 738996.27025, 739032.7945 , 739069.31875,\n",
              "       739105.843  , 739142.36725, 739178.8915 , 739215.41575,\n",
              "       739251.94   , 739288.46425, 739324.9885 , 739361.51275,\n",
              "       739398.037  , 739434.56125, 739471.0855 , 739507.60975,\n",
              "       739544.134  , 739580.65825, 739617.1825 , 739653.70675,\n",
              "       739690.231  , 739726.75525, 739763.2795 , 739799.80375,\n",
              "       739836.328  , 739872.85225, 739909.3765 , 739945.90075,\n",
              "       739982.425  , 740018.94925, 740055.4735 , 740091.99775,\n",
              "       740128.522  , 740165.04625, 740201.5705 , 740238.09475,\n",
              "       740274.619  , 740311.14325, 740347.6675 , 740384.19175,\n",
              "       740420.716  , 740457.24025, 740493.7645 , 740530.28875,\n",
              "       740566.813  , 740603.33725, 740639.8615 , 740676.38575,\n",
              "       740712.91   , 740749.43425, 740785.9585 , 740822.48275,\n",
              "       740859.007  , 740895.53125, 740932.0555 , 740968.57975,\n",
              "       741005.104  , 741041.62825, 741078.1525 , 741114.67675,\n",
              "       741151.201  ])"
            ]
          },
          "execution_count": 191,
          "metadata": {},
          "output_type": "execute_result"
        }
      ]
    },
    {
      "cell_type": "code",
      "metadata": {
        "id": "ui3mIkkABHJV"
      },
      "source": [
        "import seaborn as sns"
      ],
      "execution_count": null,
      "outputs": []
    },
    {
      "cell_type": "code",
      "metadata": {
        "id": "hAB70sQnBHJW",
        "outputId": "f2ea5062-cc58-406c-d1eb-5b7a1833860d"
      },
      "source": [
        "#here is where the plotting happens:\n",
        "fig, axes = plt.subplots(nrows=8, ncols=4, dpi = 200)\n",
        "\n",
        "fig.set_figwidth(20) # The size should be changed based on end_date value\n",
        "fig.set_figheight(25)\n",
        "\n",
        "axes = axes.ravel()\n",
        "\n",
        "if mode=='water':\n",
        "    \n",
        "    for m,i in enumerate(IMPACT_locations):\n",
        "\n",
        "        for j,k in enumerate(IMPACT_df[i].columns[startcolumn:-1]):\n",
        "\n",
        "            if m==0:\n",
        "                axes[j].plot_date(dates_IMPACT, IMPACT_df[i][k], ls='--',marker= '',c=IMPACT_color_ls[m], label=i)\n",
        "                axes[j].set_ylabel(k+ ' ' + '(' + unit_ls[j] + ')',fontsize=5 ) #\n",
        "\n",
        "                axes[j].xaxis.set_major_locator(mdates.YearLocator(1)) # 10 years of interval\n",
        "                axes[j].xaxis.set_major_formatter(DateFormatter(\"%Y\"))\n",
        "\n",
        "                axes[j].tick_params(labelsize = 5)\n",
        "                axes[j].set_xlim(min(dates_IMPACT), max(dates_IMPACT))\n",
        "\n",
        "            if m==1:\n",
        "                axes[j].plot_date(dates_IMPACT, IMPACT_df[i][k], ls='-.',marker='',c=IMPACT_color_ls[m], label=i)\n",
        "\n",
        "            if m==2:\n",
        "                axes[j].plot_date(dates_IMPACT, IMPACT_df[i][k], ls=':',marker='',c=IMPACT_color_ls[m], label=i)\n",
        "\n",
        "            fig.tight_layout()\n",
        "\n",
        "            bbox = axes[j].get_tightbbox(fig.canvas.get_renderer())\n",
        "            fig.savefig(str(IMPACT_water_plots_folder)+'/'+\"{}.png\".format(k),\n",
        "                  bbox_inches=bbox.transformed(fig.dpi_scale_trans.inverted()))    \n",
        "\n",
        "            handles, labels = axes[j].get_legend_handles_labels()\n",
        "\n",
        "     \n",
        "        \n",
        "    fig.savefig(str(IMPACT_water_plots_folder)+'/IMPACT.png')\n",
        "    print('IMPACT figures are plotted and saved in '+str(IMPACT_water_plots_folder))\n",
        "    plt.close('all')\n",
        "    #print the labels\n",
        "    leg_fig = pylab.figure(figsize=(5,3), dpi=200)\n",
        "    leg_ax = fig.add_subplot(111)\n",
        "    leg_fig.legend(handles, labels, 'center', ncol=1)\n",
        "    leg_fig.savefig(str(IMPACT_water_plots_folder)+'/IMPACT_legend.png',bbox_inches='tight')\n",
        "    \n",
        "\n",
        "if mode=='sediment':\n",
        "    \n",
        "    \n",
        "    for m,i in enumerate(IMPACT_locations):\n",
        "        \n",
        "\n",
        "        for j,k in enumerate(IMPACT_df[i].columns[startcolumn:-1]):\n",
        "            \n",
        "\n",
        "            if m==0:\n",
        "                axes[j].plot_date(dates_IMPACT, IMPACT_df[i][k], ls='--',marker= '',c=IMPACT_color_ls[m], label=i)\n",
        "                axes[j].set_ylabel(k+ ' ' + '(' + unit_ls[j] + ')', fontsize=5)\n",
        "\n",
        "                axes[j].xaxis.set_major_locator(mdates.YearLocator(1)) # 10 years of interval\n",
        "                axes[j].xaxis.set_major_formatter(DateFormatter(\"%Y\"))\n",
        "\n",
        "                axes[j].tick_params(labelsize = 5)\n",
        "\n",
        "            if m==1:\n",
        "                axes[j].plot_date(dates_IMPACT, IMPACT_df[i][k], ls='-.',marker='',c=IMPACT_color_ls[m], label=i)\n",
        "\n",
        "            if m==2:\n",
        "                axes[j].plot_date(dates_IMPACT, IMPACT_df[i][k], ls=':',marker='',c=IMPACT_color_ls[m], label=i)\n",
        "\n",
        "            fig.tight_layout()\n",
        "\n",
        "            bbox = axes[j].get_tightbbox(fig.canvas.get_renderer())\n",
        "            fig.savefig(str(IMPACT_sediment_plots_folder)+'/'+\"{}.png\".format(k),\n",
        "                  bbox_inches=bbox.transformed(fig.dpi_scale_trans.inverted()))    \n",
        "\n",
        "            handles, labels = axes[j].get_legend_handles_labels()\n",
        "\n",
        "\n",
        "    \n",
        "    fig.savefig(str(IMPACT_sediment_plots_folder)+'/IMPACT.png')\n",
        "    print('IMPACT figures are plotted and saved in '+str(IMPACT_sediment_plots_folder))\n",
        "    plt.close('all')\n",
        "#     print the labels\n",
        "    leg_fig = pylab.figure(figsize=(5,3), dpi=200)\n",
        "    leg_ax = fig.add_subplot(111)\n",
        "    leg_fig.legend(handles, labels, 'center', ncol=1)\n",
        "    leg_fig.savefig(str(IMPACT_sediment_plots_folder)+'/IMPACT_legend.png',bbox_inches='tight')\n",
        "    \n",
        " \n"
      ],
      "execution_count": null,
      "outputs": [
        {
          "name": "stdout",
          "output_type": "stream",
          "text": [
            "IMPACT figures are plotted and saved in ./plots/Sediment_Impact_Plots_sediment\n"
          ]
        },
        {
          "data": {
            "text/plain": [
              "<Figure size 1000x600 with 0 Axes>"
            ]
          },
          "metadata": {},
          "output_type": "display_data"
        }
      ]
    },
    {
      "cell_type": "markdown",
      "metadata": {
        "id": "YCD-viLFBHJW"
      },
      "source": [
        "Adding EMMA data\n",
        "Creating a dictionary of EMMA dataframes for the selected EMMA_locations\n",
        "\n",
        "EMMA_df_s == Selected EMMA_dfCreating a dictionary of EMMA dataframes for the selected EMMA_locations\n",
        "EMMA_df_s == Selected EMMA_df\n",
        "\n",
        "Then:\n",
        "Creating two sets of dataframes for the measurements above and below detection limit\n",
        "T=Below DL\n",
        "F=Above DL"
      ]
    },
    {
      "cell_type": "markdown",
      "metadata": {
        "id": "EM5TxFhsBHJW"
      },
      "source": [
        "To apply the end_date to EMMA\n",
        "EMMA_df = EMMA_df[EMMA_df['Sample_DateTime']<end_date]\n",
        "This length of this list is used for marker shapes\n",
        "len(EMMA_location_alias)"
      ]
    },
    {
      "cell_type": "code",
      "metadata": {
        "id": "-mXF0MT6BHJW",
        "outputId": "2dae882b-0f87-40d3-852b-8c55e4498583"
      },
      "source": [
        "IMPACT_df['Broach Lake']['Date_Time'][1]"
      ],
      "execution_count": null,
      "outputs": [
        {
          "data": {
            "text/plain": [
              "Timestamp('2017-02-06 12:34:55.200000')"
            ]
          },
          "execution_count": 196,
          "metadata": {},
          "output_type": "execute_result"
        }
      ]
    },
    {
      "cell_type": "code",
      "metadata": {
        "id": "JQ_PjRRoBHJW"
      },
      "source": [
        "EMMA_df = EMMA_df[EMMA_df['Sample_DateTime']<end_date]"
      ],
      "execution_count": null,
      "outputs": []
    },
    {
      "cell_type": "code",
      "metadata": {
        "id": "DcVioDzCBHJX",
        "outputId": "109340ad-ec78-47bc-d467-f04e8dae8d7d"
      },
      "source": [
        "EMMA_df_s = {} # Selected dataframe\n",
        "\n",
        "for l in EMMA_locations:\n",
        "    EMMA_df_temp = EMMA_df.filter(regex=(l))#filters all column entrys based on the name l\n",
        "    EMMA_df_s[l] = EMMA_df_temp\n",
        "\n",
        "print('The selected EMMA sampling locations for plotting are: '+str(EMMA_df_s.keys()))"
      ],
      "execution_count": null,
      "outputs": [
        {
          "name": "stdout",
          "output_type": "stream",
          "text": [
            "The selected EMMA sampling locations for plotting are: dict_keys(['BeetL A2', 'BL A1', 'FL A1', 'FL A3', 'LG A2', 'LH A2', 'LLI', 'LLO', 'NL', 'PLNE A2', 'PLNW A1', 'PLS A2'])\n"
          ]
        }
      ]
    },
    {
      "cell_type": "code",
      "metadata": {
        "id": "oIRawnt2BHJX",
        "outputId": "6af0145e-4071-4f95-9736-8a2931348f7e"
      },
      "source": [
        "EMMA_locations"
      ],
      "execution_count": null,
      "outputs": [
        {
          "data": {
            "text/plain": [
              "['BeetL A2',\n",
              " 'BL A1',\n",
              " 'FL A1',\n",
              " 'FL A3',\n",
              " 'LG A2',\n",
              " 'LH A2',\n",
              " 'LLI',\n",
              " 'LLO',\n",
              " 'NL',\n",
              " 'PLNE A2',\n",
              " 'PLNW A1',\n",
              " 'PLS A2']"
            ]
          },
          "execution_count": 199,
          "metadata": {},
          "output_type": "execute_result"
        }
      ]
    },
    {
      "cell_type": "markdown",
      "metadata": {
        "id": "sDF3pArNBHJX"
      },
      "source": [
        "seperate dfs for under and over DL"
      ]
    },
    {
      "cell_type": "code",
      "metadata": {
        "id": "kJ3VydC1BHJX"
      },
      "source": [
        "dates_EMMA = [pd.to_datetime(d) for d in EMMA_df['Sample_DateTime']]\n",
        "\n",
        "dates_EMMA = matplotlib.dates.date2num(dates_EMMA)\n",
        "EMMA_df_s_T = {}\n",
        "EMMA_df_s_F = {}\n",
        "\n",
        "for l in EMMA_locations:\n",
        "    EMMA_df_temp_T = EMMA_df_s[l][EMMA_df_s[l].columns[EMMA_df_s[l].columns.str.endswith('True')]]\n",
        "    EMMA_df_s_T[l] =  pd.concat([EMMA_df[['Parameter_ID','Units']],EMMA_df_temp_T, EMMA_df['Sample_DateTime'],\n",
        "                                 pd.DataFrame(dates_EMMA,columns=['Time']) ],axis=1) \n",
        "           \n",
        "    EMMA_df_temp_F = EMMA_df_s[l][EMMA_df_s[l].columns[EMMA_df_s[l].columns.str.endswith('False')]]\n",
        "    EMMA_df_s_F[l] = pd.concat([EMMA_df[['Parameter_ID','Units']],EMMA_df_temp_F, EMMA_df['Sample_DateTime'],\n",
        "                               pd.DataFrame(dates_EMMA,columns=['Time'])],axis=1) "
      ],
      "execution_count": null,
      "outputs": []
    },
    {
      "cell_type": "code",
      "metadata": {
        "id": "IQtAJetLBHJX",
        "outputId": "175d1e9d-3df4-46f5-ace7-304b71759f4b"
      },
      "source": [
        "EMMA_df_s_T.keys()"
      ],
      "execution_count": null,
      "outputs": [
        {
          "data": {
            "text/plain": [
              "dict_keys(['BeetL A2', 'BL A1', 'FL A1', 'FL A3', 'LG A2', 'LH A2', 'LLI', 'LLO', 'NL', 'PLNE A2', 'PLNW A1', 'PLS A2'])"
            ]
          },
          "execution_count": 201,
          "metadata": {},
          "output_type": "execute_result"
        }
      ]
    },
    {
      "cell_type": "markdown",
      "metadata": {
        "id": "4_0XDafsBHJX"
      },
      "source": [
        "Reading the WQG and SQG\n"
      ]
    },
    {
      "cell_type": "code",
      "metadata": {
        "id": "R6QVMq1DBHJX",
        "outputId": "77dec9ca-d1cd-477b-bc24-889832b85770"
      },
      "source": [
        "QG_df = pd.read_excel(QG_folder_file, sheet_name=QG_file_sheet_name)\n",
        "print('Quality guidelines from: '+str(QG_file_sheet_name))"
      ],
      "execution_count": null,
      "outputs": [
        {
          "name": "stdout",
          "output_type": "stream",
          "text": [
            "Quality guidelines from: SQG\n"
          ]
        }
      ]
    },
    {
      "cell_type": "code",
      "metadata": {
        "id": "wG7t5JI3BHJY",
        "outputId": "639dd559-c305-4f92-c31b-0517573d19f8"
      },
      "source": [
        "QG_df"
      ],
      "execution_count": null,
      "outputs": [
        {
          "data": {
            "text/html": [
              "<div>\n",
              "<style scoped>\n",
              "    .dataframe tbody tr th:only-of-type {\n",
              "        vertical-align: middle;\n",
              "    }\n",
              "\n",
              "    .dataframe tbody tr th {\n",
              "        vertical-align: top;\n",
              "    }\n",
              "\n",
              "    .dataframe thead th {\n",
              "        text-align: right;\n",
              "    }\n",
              "</style>\n",
              "<table border=\"1\" class=\"dataframe\">\n",
              "  <thead>\n",
              "    <tr style=\"text-align: right;\">\n",
              "      <th></th>\n",
              "      <th>COPC</th>\n",
              "      <th>WQG</th>\n",
              "      <th>units</th>\n",
              "    </tr>\n",
              "  </thead>\n",
              "  <tbody>\n",
              "    <tr>\n",
              "      <th>0</th>\n",
              "      <td>Conductivity (Field)</td>\n",
              "      <td>NaN</td>\n",
              "      <td>NaN</td>\n",
              "    </tr>\n",
              "    <tr>\n",
              "      <th>1</th>\n",
              "      <td>Arsenic</td>\n",
              "      <td>522.00</td>\n",
              "      <td>mg/kg</td>\n",
              "    </tr>\n",
              "    <tr>\n",
              "      <th>2</th>\n",
              "      <td>Calcium</td>\n",
              "      <td>NaN</td>\n",
              "      <td>mg/kg</td>\n",
              "    </tr>\n",
              "    <tr>\n",
              "      <th>3</th>\n",
              "      <td>Cadmium</td>\n",
              "      <td>0.60</td>\n",
              "      <td>mg/kg</td>\n",
              "    </tr>\n",
              "    <tr>\n",
              "      <th>4</th>\n",
              "      <td>Chloride</td>\n",
              "      <td>NaN</td>\n",
              "      <td>mg/kg</td>\n",
              "    </tr>\n",
              "    <tr>\n",
              "      <th>5</th>\n",
              "      <td>Cobalt</td>\n",
              "      <td>50.00</td>\n",
              "      <td>mg/kg</td>\n",
              "    </tr>\n",
              "    <tr>\n",
              "      <th>6</th>\n",
              "      <td>Chromium</td>\n",
              "      <td>37.30</td>\n",
              "      <td>mg/kg</td>\n",
              "    </tr>\n",
              "    <tr>\n",
              "      <th>7</th>\n",
              "      <td>Cesium</td>\n",
              "      <td>NaN</td>\n",
              "      <td>mg/kg</td>\n",
              "    </tr>\n",
              "    <tr>\n",
              "      <th>8</th>\n",
              "      <td>Copper</td>\n",
              "      <td>22.00</td>\n",
              "      <td>mg/kg</td>\n",
              "    </tr>\n",
              "    <tr>\n",
              "      <th>9</th>\n",
              "      <td>Magnesium</td>\n",
              "      <td>NaN</td>\n",
              "      <td>mg/kg</td>\n",
              "    </tr>\n",
              "    <tr>\n",
              "      <th>10</th>\n",
              "      <td>Manganese</td>\n",
              "      <td>0.46</td>\n",
              "      <td>mg/kg</td>\n",
              "    </tr>\n",
              "    <tr>\n",
              "      <th>11</th>\n",
              "      <td>Molybdenum</td>\n",
              "      <td>245.00</td>\n",
              "      <td>mg/kg</td>\n",
              "    </tr>\n",
              "    <tr>\n",
              "      <th>12</th>\n",
              "      <td>Ammonia (as N)</td>\n",
              "      <td>NaN</td>\n",
              "      <td>mg/kg</td>\n",
              "    </tr>\n",
              "    <tr>\n",
              "      <th>13</th>\n",
              "      <td>Ammonia (as NH3)</td>\n",
              "      <td>NaN</td>\n",
              "      <td>mg/kg</td>\n",
              "    </tr>\n",
              "    <tr>\n",
              "      <th>14</th>\n",
              "      <td>Nitrate</td>\n",
              "      <td>NaN</td>\n",
              "      <td>mg/kg</td>\n",
              "    </tr>\n",
              "    <tr>\n",
              "      <th>15</th>\n",
              "      <td>Nitrate (as N)</td>\n",
              "      <td>NaN</td>\n",
              "      <td>mg/kg</td>\n",
              "    </tr>\n",
              "    <tr>\n",
              "      <th>16</th>\n",
              "      <td>Sodium</td>\n",
              "      <td>NaN</td>\n",
              "      <td>mg/kg</td>\n",
              "    </tr>\n",
              "    <tr>\n",
              "      <th>17</th>\n",
              "      <td>Nickel</td>\n",
              "      <td>326.00</td>\n",
              "      <td>mg/kg</td>\n",
              "    </tr>\n",
              "    <tr>\n",
              "      <th>18</th>\n",
              "      <td>Lead</td>\n",
              "      <td>37.00</td>\n",
              "      <td>mg/kg</td>\n",
              "    </tr>\n",
              "    <tr>\n",
              "      <th>19</th>\n",
              "      <td>Lead-210</td>\n",
              "      <td>900.00</td>\n",
              "      <td>mg/kg</td>\n",
              "    </tr>\n",
              "    <tr>\n",
              "      <th>20</th>\n",
              "      <td>Polonium-210</td>\n",
              "      <td>800.00</td>\n",
              "      <td>Bq/kg</td>\n",
              "    </tr>\n",
              "    <tr>\n",
              "      <th>21</th>\n",
              "      <td>Radium-226</td>\n",
              "      <td>600.00</td>\n",
              "      <td>Bq/kg</td>\n",
              "    </tr>\n",
              "    <tr>\n",
              "      <th>22</th>\n",
              "      <td>Radon-222</td>\n",
              "      <td>NaN</td>\n",
              "      <td>Bq/kg</td>\n",
              "    </tr>\n",
              "    <tr>\n",
              "      <th>23</th>\n",
              "      <td>Sulphate</td>\n",
              "      <td>NaN</td>\n",
              "      <td>mg/kg</td>\n",
              "    </tr>\n",
              "    <tr>\n",
              "      <th>24</th>\n",
              "      <td>Selenium</td>\n",
              "      <td>30.00</td>\n",
              "      <td>mg/kg</td>\n",
              "    </tr>\n",
              "    <tr>\n",
              "      <th>25</th>\n",
              "      <td>Thorium-230</td>\n",
              "      <td>NaN</td>\n",
              "      <td>mg/kg</td>\n",
              "    </tr>\n",
              "    <tr>\n",
              "      <th>26</th>\n",
              "      <td>Uranium</td>\n",
              "      <td>2296.00</td>\n",
              "      <td>mg/kg</td>\n",
              "    </tr>\n",
              "    <tr>\n",
              "      <th>27</th>\n",
              "      <td>Uranium-234</td>\n",
              "      <td>NaN</td>\n",
              "      <td>mg/kg</td>\n",
              "    </tr>\n",
              "    <tr>\n",
              "      <th>28</th>\n",
              "      <td>Uranium-238</td>\n",
              "      <td>NaN</td>\n",
              "      <td>mg/kg</td>\n",
              "    </tr>\n",
              "    <tr>\n",
              "      <th>29</th>\n",
              "      <td>Zinc</td>\n",
              "      <td>123.00</td>\n",
              "      <td>mg/kg</td>\n",
              "    </tr>\n",
              "    <tr>\n",
              "      <th>30</th>\n",
              "      <td>Vanadium</td>\n",
              "      <td>123.00</td>\n",
              "      <td>mg/kg</td>\n",
              "    </tr>\n",
              "    <tr>\n",
              "      <th>31</th>\n",
              "      <td>Iron</td>\n",
              "      <td>NaN</td>\n",
              "      <td>mg/kg</td>\n",
              "    </tr>\n",
              "  </tbody>\n",
              "</table>\n",
              "</div>"
            ],
            "text/plain": [
              "                    COPC      WQG  units\n",
              "0   Conductivity (Field)      NaN    NaN\n",
              "1                Arsenic   522.00  mg/kg\n",
              "2                Calcium      NaN  mg/kg\n",
              "3                Cadmium     0.60  mg/kg\n",
              "4               Chloride      NaN  mg/kg\n",
              "5                 Cobalt    50.00  mg/kg\n",
              "6               Chromium    37.30  mg/kg\n",
              "7                 Cesium      NaN  mg/kg\n",
              "8                 Copper    22.00  mg/kg\n",
              "9              Magnesium      NaN  mg/kg\n",
              "10             Manganese     0.46  mg/kg\n",
              "11            Molybdenum   245.00  mg/kg\n",
              "12        Ammonia (as N)      NaN  mg/kg\n",
              "13      Ammonia (as NH3)      NaN  mg/kg\n",
              "14               Nitrate      NaN  mg/kg\n",
              "15        Nitrate (as N)      NaN  mg/kg\n",
              "16                Sodium      NaN  mg/kg\n",
              "17                Nickel   326.00  mg/kg\n",
              "18                  Lead    37.00  mg/kg\n",
              "19              Lead-210   900.00  mg/kg\n",
              "20          Polonium-210   800.00  Bq/kg\n",
              "21            Radium-226   600.00  Bq/kg\n",
              "22             Radon-222      NaN  Bq/kg\n",
              "23              Sulphate      NaN  mg/kg\n",
              "24              Selenium    30.00  mg/kg\n",
              "25           Thorium-230      NaN  mg/kg\n",
              "26               Uranium  2296.00  mg/kg\n",
              "27           Uranium-234      NaN  mg/kg\n",
              "28           Uranium-238      NaN  mg/kg\n",
              "29                  Zinc   123.00  mg/kg\n",
              "30              Vanadium   123.00  mg/kg\n",
              "31                  Iron      NaN  mg/kg"
            ]
          },
          "execution_count": 203,
          "metadata": {},
          "output_type": "execute_result"
        }
      ]
    },
    {
      "cell_type": "markdown",
      "metadata": {
        "id": "0z7ULGx-BHJY"
      },
      "source": [
        "plot the IMPACT, EMMA, with the measurement data and the Quality Guidelines\n"
      ]
    },
    {
      "cell_type": "code",
      "metadata": {
        "id": "7fnmpTP0BHJY"
      },
      "source": [
        "fig, axes = plt.subplots(nrows=32, ncols=1, dpi = 200)\n",
        "#the nrows is a problem, here we have 27, if we ever have more we'll be plotting less\n",
        "\n",
        "fig.set_figwidth(10)\n",
        "fig.set_figheight(120)\n",
        "\n",
        "\n",
        "axes = axes.ravel()#this combines multidimensional arrays to one dimensio, probably does nothing here\n",
        "\n",
        "if mode=='sediment':\n",
        "    for m,i in enumerate(IMPACT_locations): # Legend-location\n",
        "        for n,j in enumerate(IMPACT_df[i].columns[startcolumn:-1]): # Label-concentration\n",
        "            #print(len(IMPACT_df[i].columns))\n",
        "\n",
        "            if m==0:\n",
        "\n",
        "                axes[n].plot_date(dates_IMPACT, IMPACT_df[i][j], ls='--',marker= '',c=IMPACT_color_ls[m], label='IMPACT Prediction'+'-'+i)   # To plot IMPACT           \n",
        "                axes[n].set_ylabel(j + ' ' + '(' + unit_ls[n] + ')', fontsize=8)            \n",
        "                axes[n].xaxis.set_major_locator(mdates.YearLocator(1)) # 10 years of interval\n",
        "                axes[n].xaxis.set_major_formatter(DateFormatter(\"%Y\"))            \n",
        "                axes[n].tick_params(labelsize = 8)\n",
        "\n",
        "            if m==1:\n",
        "                axes[n].plot_date(dates_IMPACT, IMPACT_df[i][j], ls='-.',marker='',c=IMPACT_color_ls[m], label='IMPACT Prediction'+'-'+i)\n",
        "\n",
        "#             if m==2:\n",
        "#                 axes[n].plot_date(dates_IMPACT, IMPACT_df[i][j], ls=':',marker='',c=IMPACT_color_ls[m], label='IMPACT Prediction'+'-'+i)\n",
        "\n",
        "                if len(EMMA_Stat_df.loc[EMMA_Stat_df['Parameter'] == j])==0:\n",
        "                    continue\n",
        "                geom_m_EMMA = EMMA_Stat_df.loc[EMMA_Stat_df['Parameter'] == j]['Geometric_Mean'].iloc[0]\n",
        "                axes[n].plot_date([start_date,end_date],[geom_m_EMMA, geom_m_EMMA],ls='-',marker=' ',\n",
        "                                  c=geom_m_EMMA_ls[0], label='Observed Geometric Mean')\n",
        "                \n",
        "                local_inflow_mean = local_inflow_df[j]['Sediment_input']\n",
        "               \n",
        "\n",
        "                axes[n].plot_date([start_date,end_date],[local_inflow_mean, local_inflow_mean],ls='-',marker=' ',\n",
        "                                  c=local_inflow_mean_color_ls[0], label='Selected Background for IMPACT Modeling')\n",
        "\n",
        "                QG_ref = QG_df[QG_df['COPC']==j]['WQG'].iloc[0] # Water quality guidline reference\n",
        "               \n",
        "                axes[n].plot_date([start_date,end_date],[QG_ref, QG_ref],ls='-',marker=' ',\n",
        "                                  c=QG_color_ls[0], label='Sediment Quality Guideline')\n",
        "                \n",
        "\n",
        "                for p,l in enumerate(EMMA_locations):\n",
        "                    \n",
        "                    grouped_F = EMMA_df_s_F[EMMA_locations[p]].groupby('Parameter_ID')\n",
        "                    grouped_T = EMMA_df_s_T[EMMA_locations[p]].groupby('Parameter_ID')\n",
        "                    \n",
        "                    if j in (grouped_T.describe().index): # To check if the concentration in EMMA-Sometimes because of\n",
        "                        #the end date we might loose some concentrations\n",
        "                        EMMA_copc_F_df = grouped_F.get_group(j)\n",
        "                        EMMA_copc_T_df = grouped_T.get_group(j)\n",
        "\n",
        "                        temp_ls_F = list(EMMA_copc_F_df.columns[EMMA_copc_F_df.columns.str.endswith('False')])\n",
        "                        temp_ls_T = list(EMMA_copc_T_df.columns[EMMA_copc_T_df.columns.str.endswith('True')])\n",
        "\n",
        "                        col_ls_temp_F_0 = EMMA_df_s_F[l].columns\n",
        "                        col_ls_temp_F_1 = [s for s in col_ls_temp_F_0 if l in s]\n",
        "                        label_F_ls = [word[:-5] for word in col_ls_temp_F_1]\n",
        "\n",
        "                        col_ls_temp_T_0 = EMMA_df_s_T[l].columns\n",
        "                        col_ls_temp_T_1 = [s for s in col_ls_temp_T_0 if l in s]\n",
        "                        label_T_ls = [word[:-4] for word in col_ls_temp_T_1]\n",
        "\n",
        "                        if len(EMMA_copc_T_df.columns)>5:\n",
        "\n",
        "                                for o,k in enumerate(temp_ls_F): # To plot EMMA \n",
        "                                    axes[n].plot_date(EMMA_copc_F_df['Time'], EMMA_copc_F_df[k], marker=EMMA_marker_ls[p], markersize=5,c=cols_ls_2[o],\n",
        "                                                      label='Observed Data'+'-'+ EMMA_location_alias[EMMA_locations.index(label_F_ls[o])])  \n",
        "\n",
        "                                for o,k in enumerate(temp_ls_T): # To plot EMMA\n",
        "                                    axes[n].plot_date(EMMA_copc_T_df['Time'], EMMA_copc_T_df[k],\n",
        "                                                      marker=EMMA_marker_ls[p], markerfacecolor='white',markersize=5,c=cols_ls_2[o],\n",
        "                                                      label='Below Detection Limit'+'-'+EMMA_location_alias[EMMA_locations.index(label_T_ls[o])]) \n",
        "                        else:\n",
        "\n",
        "                                for o,k in enumerate(temp_ls_F): # To plot EMMA \n",
        "                                    axes[n].plot_date(EMMA_copc_F_df['Time'], EMMA_copc_F_df[k], marker=EMMA_marker_ls[p], markersize=5,c=cols_ls_1[p],\n",
        "                                                        label='Observed Data'+'-'+ EMMA_location_alias[EMMA_locations.index(label_F_ls[o])] )  \n",
        "\n",
        "                                for o,k in enumerate(temp_ls_T): # To plot EMMA\n",
        "                                    axes[n].plot_date(EMMA_copc_T_df['Time'], EMMA_copc_T_df[k],\n",
        "                                                      marker=EMMA_marker_ls[p], markerfacecolor='white',markersize=5,c=cols_ls_1[p],\n",
        "                                                      label='Below Detection Limit'+'-'+EMMA_location_alias[EMMA_locations.index(label_T_ls[o])])\n",
        "\n",
        "\n",
        "                fig.tight_layout()\n",
        "\n",
        "                bbox = axes[n].get_tightbbox(fig.canvas.get_renderer())\n",
        "        \n",
        "\n",
        "                fig.savefig(str(IMPACT_EMMA_Sediment_Plots_folder)+'/'+\"{}.png\".format(j),\n",
        "                      bbox_inches=bbox.transformed(fig.dpi_scale_trans.inverted()))   \n",
        "        \n",
        "                handles, labels = axes[n].get_legend_handles_labels()\n",
        "\n",
        "    plt.close('all')\n",
        "    leg_fig = pylab.figure(figsize=(5,3), dpi=200)\n",
        "    leg_ax = fig.add_subplot(111)\n",
        "    leg_fig.legend(handles, labels, 'center', ncol=3)\n",
        "    leg_fig.savefig(str(IMPACT_EMMA_Sediment_Plots_folder)+'/IMPACT_EMMA_LocalInflow_QG_legend.png',bbox_inches='tight')"
      ],
      "execution_count": null,
      "outputs": []
    },
    {
      "cell_type": "code",
      "metadata": {
        "id": "kg-WPBnBBHJY"
      },
      "source": [
        "fig, axes = plt.subplots(nrows=32, ncols=1, dpi = 200)\n",
        "#the nrows is a problem, here we have 27, if we ever have more we'll be plotting less\n",
        "\n",
        "fig.set_figwidth(10)\n",
        "fig.set_figheight(120)\n",
        "\n",
        "\n",
        "axes = axes.ravel()#this combines multidimensional arrays to one dimensio, probably does nothing here\n",
        "\n",
        "if mode=='water':\n",
        "    for m,i in enumerate(IMPACT_locations): # Legend-location\n",
        "        for n,j in enumerate(IMPACT_df[i].columns[startcolumn:-1]): # Label-concentration\n",
        "            #print(len(IMPACT_df[i].columns))\n",
        "\n",
        "            if m==0:\n",
        "\n",
        "                axes[n].plot_date(dates_IMPACT, IMPACT_df[i][j], ls='--',marker= '',c=IMPACT_color_ls[m], label='IMPACT Prediction'+'-'+i)   # To plot IMPACT           \n",
        "                axes[n].set_ylabel(j + ' ' + '(' + unit_ls[n] + ')', fontsize=8)            \n",
        "                axes[n].xaxis.set_major_locator(mdates.YearLocator(1)) # 10 years of interval\n",
        "                axes[n].xaxis.set_major_formatter(DateFormatter(\"%Y\"))            \n",
        "                axes[n].tick_params(labelsize = 8)\n",
        "\n",
        "            if m==1:\n",
        "                axes[n].plot_date(dates_IMPACT, IMPACT_df[i][j], ls='-.',marker='',c=IMPACT_color_ls[m], label='IMPACT Prediction'+'-'+i)\n",
        "\n",
        "            if m==2:\n",
        "                axes[n].plot_date(dates_IMPACT, IMPACT_df[i][j], ls=':',marker='',c=IMPACT_color_ls[m], label='IMPACT Prediction'+'-'+i)\n",
        "\n",
        "                if len(EMMA_Stat_df.loc[EMMA_Stat_df['Parameter'] == j])==0:\n",
        "                    continue\n",
        "                geom_m_EMMA = EMMA_Stat_df.loc[EMMA_Stat_df['Parameter'] == j]['Geometric_Mean'].iloc[0]\n",
        "                axes[n].plot_date([start_date,end_date],[geom_m_EMMA, geom_m_EMMA],ls='-',marker=' ',\n",
        "                                  c=geom_m_EMMA_ls[0], label='Observed Geometric Mean')\n",
        "                \n",
        "                local_inflow_mean = local_inflow_df[j]['Sediment_input']\n",
        "               \n",
        "\n",
        "                axes[n].plot_date([start_date,end_date],[local_inflow_mean, local_inflow_mean],ls='-',marker=' ',\n",
        "                                  c=local_inflow_mean_color_ls[0], label='Selected Background for IMPACT Modeling')\n",
        "\n",
        "                QG_ref = QG_df[QG_df['COPC']==j]['WQG'].iloc[0] # Water quality guidline reference\n",
        "               \n",
        "                axes[n].plot_date([start_date,end_date],[QG_ref, QG_ref],ls='-',marker=' ',\n",
        "                                  c=QG_color_ls[0], label='Sediment Quality Guideline')\n",
        "                \n",
        "\n",
        "                for p,l in enumerate(EMMA_locations):\n",
        "                    \n",
        "                    grouped_F = EMMA_df_s_F[EMMA_locations[p]].groupby('Parameter_ID')\n",
        "                    grouped_T = EMMA_df_s_T[EMMA_locations[p]].groupby('Parameter_ID')\n",
        "                    \n",
        "                    if j in (grouped_T.describe().index): # To check if the concentration in EMMA-Sometimes because of\n",
        "                        #the end date we might loose some concentrations\n",
        "                        EMMA_copc_F_df = grouped_F.get_group(j)\n",
        "                        EMMA_copc_T_df = grouped_T.get_group(j)\n",
        "\n",
        "                        temp_ls_F = list(EMMA_copc_F_df.columns[EMMA_copc_F_df.columns.str.endswith('False')])\n",
        "                        temp_ls_T = list(EMMA_copc_T_df.columns[EMMA_copc_T_df.columns.str.endswith('True')])\n",
        "\n",
        "                        col_ls_temp_F_0 = EMMA_df_s_F[l].columns\n",
        "                        col_ls_temp_F_1 = [s for s in col_ls_temp_F_0 if l in s]\n",
        "                        label_F_ls = [word[:-5] for word in col_ls_temp_F_1]\n",
        "\n",
        "                        col_ls_temp_T_0 = EMMA_df_s_T[l].columns\n",
        "                        col_ls_temp_T_1 = [s for s in col_ls_temp_T_0 if l in s]\n",
        "                        label_T_ls = [word[:-4] for word in col_ls_temp_T_1]\n",
        "\n",
        "                        if len(EMMA_copc_T_df.columns)>5:\n",
        "\n",
        "                                for o,k in enumerate(temp_ls_F): # To plot EMMA \n",
        "                                    axes[n].plot_date(EMMA_copc_F_df['Time'], EMMA_copc_F_df[k], marker=EMMA_marker_ls[p], markersize=5,c=cols_ls_2[o],\n",
        "                                                      label='Observed Data'+'-'+ EMMA_location_alias[EMMA_locations.index(label_F_ls[o])])  \n",
        "\n",
        "                                for o,k in enumerate(temp_ls_T): # To plot EMMA\n",
        "                                    axes[n].plot_date(EMMA_copc_T_df['Time'], EMMA_copc_T_df[k],\n",
        "                                                      marker=EMMA_marker_ls[p], markerfacecolor='white',markersize=5,c=cols_ls_2[o],\n",
        "                                                      label='Below Detection Limit'+'-'+EMMA_location_alias[EMMA_locations.index(label_T_ls[o])]) \n",
        "                        else:\n",
        "\n",
        "                                for o,k in enumerate(temp_ls_F): # To plot EMMA \n",
        "                                    axes[n].plot_date(EMMA_copc_F_df['Time'], EMMA_copc_F_df[k], marker=EMMA_marker_ls[p], markersize=5,c=cols_ls_1[p],\n",
        "                                                        label='Observed Data'+'-'+ EMMA_location_alias[EMMA_locations.index(label_F_ls[o])] )  \n",
        "\n",
        "                                for o,k in enumerate(temp_ls_T): # To plot EMMA\n",
        "                                    axes[n].plot_date(EMMA_copc_T_df['Time'], EMMA_copc_T_df[k],\n",
        "                                                      marker=EMMA_marker_ls[p], markerfacecolor='white',markersize=5,c=cols_ls_1[p],\n",
        "                                                      label='Below Detection Limit'+'-'+EMMA_location_alias[EMMA_locations.index(label_T_ls[o])])\n",
        "\n",
        "\n",
        "                fig.tight_layout()\n",
        "\n",
        "                bbox = axes[n].get_tightbbox(fig.canvas.get_renderer())\n",
        "        \n",
        "\n",
        "                fig.savefig(str(IMPACT_EMMA_Water_Plots_folder)+'/'+\"{}.png\".format(j),\n",
        "                      bbox_inches=bbox.transformed(fig.dpi_scale_trans.inverted()))   \n",
        "        \n",
        "                handles, labels = axes[n].get_legend_handles_labels()\n",
        "\n",
        "    plt.close('all')\n",
        "    leg_fig = pylab.figure(figsize=(5,3), dpi=200)\n",
        "    leg_ax = fig.add_subplot(111)\n",
        "    leg_fig.legend(handles, labels, 'center', ncol=3)\n",
        "    leg_fig.savefig(str(IMPACT_EMMA_Water_Plots_folder)+'/IMPACT_EMMA_LocalInflow_QG_legend.png',bbox_inches='tight')"
      ],
      "execution_count": null,
      "outputs": []
    }
  ]
}